{
 "cells": [
  {
   "cell_type": "markdown",
   "id": "82875105",
   "metadata": {},
   "source": [
    "# OIC-158 TEM Nuclei Segmentation\n",
    "Packages to import"
   ]
  },
  {
   "cell_type": "code",
   "execution_count": 1,
   "id": "1af232a6",
   "metadata": {},
   "outputs": [],
   "source": [
    "import napari\n",
    "import numpy as np\n",
    "import pyclesperanto as cle\n",
    "import skimage as sk\n",
    "from skimage.io import imread, imsave\n",
    "import pandas as pd\n",
    "import os\n",
    "from glob import glob\n",
    "import matplotlib as mpl\n",
    "import matplotlib.pyplot as plt"
   ]
  },
  {
   "cell_type": "markdown",
   "id": "87add585",
   "metadata": {},
   "source": [
    "All functions for pipeline"
   ]
  },
  {
   "cell_type": "code",
   "execution_count": null,
   "id": "892076fe",
   "metadata": {},
   "outputs": [],
   "source": [
    "#Create a 25-pixel wide band along perimeter of nucleus\n",
    "def band_25_pixels(masks,footprint):\n",
    "    eroded = [sk.morphology.erosion(mask, footprint=footprint) for mask in masks]\n",
    "    bands = [masks[i] - eroded[i] for i in range(len(masks))]\n",
    "    return bands\n",
    "\n",
    "#Threshold the dense regions within whole image\n",
    "def norm_and_threshold(imgs,max_hole=100,min_object=20,match_img=3):\n",
    "    adpt_norm = [sk.exposure.equalize_adapthist(img) for img in imgs]\n",
    "    matched_hist = [sk.exposure.match_histograms(img, adpt_norm[match_img]) for img in adpt_norm]\n",
    "    filtered = []\n",
    "    for img in matched_hist:\n",
    "        yen = sk.filters.threshold_yen(img)\n",
    "        mask = img < yen\n",
    "        dilate = sk.morphology.dilation(mask)\n",
    "        filtered.append(sk.morphology.remove_small_objects(sk.morphology.remove_small_holes(dilate,area_threshold=max_hole),min_size=min_object))\n",
    "    return filtered\n",
    "\n",
    "#Get dense roi masks within the nuclei and 25-pixel band\n",
    "def dense_rois_in_nuclei_and_band(dense_roi_masks, band_25_pixels, relabel_nuc_masks):\n",
    "    dense_roi_in_nuclei = [dense_roi_masks[i] * relabel_nuc_masks[i] for i in range(len(relabel_nuc_masks))]\n",
    "    dense_roi_in_band = [dense_roi_in_nuclei[i] * band_25_pixels[i] for i in range(len(band_25_pixels))]\n",
    "    return dense_roi_in_nuclei, dense_roi_in_band\n",
    "\n",
    "#merge masks and image into array for measurements\n",
    "def merge_masks_image(imgs,relabel_nuclei_masks,band_25_pixels,dense_roi_in_nuclei, dense_roi_in_band):\n",
    "    merged_stacks = []\n",
    "    for i in range(len(imgs)):\n",
    "        stack = np.stack([imgs[i],relabel_nuclei_masks[i],band_25_pixels[i],dense_roi_in_nuclei[i],dense_roi_in_band[i]],axis=-1)\n",
    "        merged_stacks.append(stack)\n",
    "    return merged_stacks\n",
    "\n",
    "#Get heterochromatin and band areas as lists\n",
    "def heterochromatin_and_band_areas(dense_roi_in_band, band_25_pixels, scale):\n",
    "    all_heterochromatin_areas = []\n",
    "    all_band_areas = []\n",
    "    all_norm_areas = []\n",
    "    for i in range(len(band_25_pixels)):\n",
    "        i_heterochromatin_areas = []\n",
    "        i_band_areas = []\n",
    "        i_norm_areas = []\n",
    "        band_props = sk.measure.regionprops(band_25_pixels[i],spacing=scale)\n",
    "        heterochromatin_props = sk.measure.regionprops(dense_roi_in_band[i],spacing=scale)\n",
    "        for j in range(len(band_props)):\n",
    "            band_area = band_props[j].area\n",
    "            heterochromatin_area = heterochromatin_props[j].area\n",
    "            norm_area = heterochromatin_area/band_area\n",
    "            i_heterochromatin_areas.append(heterochromatin_area)\n",
    "            i_band_areas.append(band_area)\n",
    "            i_norm_areas.append(norm_area)\n",
    "        all_heterochromatin_areas.append(i_heterochromatin_areas)\n",
    "        all_band_areas.append(i_band_areas)\n",
    "        all_norm_areas.append(i_norm_areas)\n",
    "    return all_heterochromatin_areas, all_band_areas, all_norm_areas\n",
    "\n",
    "#Get measurements for all compartments and merge dataframes together (run in loop for all images)\n",
    "def get_measurements(merged_stacks,props,scale,all_heterochromatin_areas, all_band_areas, all_norm_areas):\n",
    "    heterochromatin_areas_df = pd.Series(all_heterochromatin_areas,name='heterochromatin_area_in_band_um^2')\n",
    "    band_areas_df = pd.Series(all_band_areas, name='25-pixel_band_area_um^2')\n",
    "    norm_area_df = pd.Series(all_norm_areas, name='norm_area_heterochromatin_in_band')\n",
    "    nuc_measurements_table = sk.measure.regionprops_table(merged_stacks[:,:,1],merged_stacks,props,spacing=scale)\n",
    "    nuc_regionprops = sk.measure.regionprops(merged_stacks[:,:,1],spacing=scale)\n",
    "    circularity = []\n",
    "    for i in range(len(nuc_regionprops)):\n",
    "        nuc_area = nuc_regionprops[i].area\n",
    "        nuc_perimeter = nuc_regionprops[i].perimeter\n",
    "        circularity.append(4*np.pi*nuc_area/nuc_perimeter**2)\n",
    "    circularity = pd.Series(circularity,name='nuc_circularity')\n",
    "    nuc_df = pd.DataFrame.from_dict(nuc_measurements_table)\n",
    "    nuc_df.rename(columns={'label':'object_ID','area':'Nuc_area_um^2','intensity_max-0':'Image_intensity_max',\n",
    "                           'intensity_max-1':'Nuc_region_ID','intensity_max-2':'Band_ID','intensity_max-3':'Dense_nuc_regions_ID',\n",
    "                           'intensity_max-4':'Heterochromatin_band_ID','equivalent_diameter_area':'equivalent_diameter_area_um^2',\n",
    "                           'perimeter':'perimeter_um'},inplace=True)\n",
    "    df = pd.concat([nuc_df,circularity,heterochromatin_areas_df,band_areas_df,norm_area_df], axis=1)\n",
    "    return df\n",
    "\n",
    "#save images as tiffs and dataframes as csv (run in loop for all images along with get measurements function)\n",
    "def save_df_and_images(df,merged_stacks,save_loc, img_files):\n",
    "    image_path = os.path.join(save_loc,'merged_imgs')\n",
    "    df_path = os.path.join(save_loc,'measurements')\n",
    "    img_name = os.path.basename(img_files)\n",
    "    imsave(os.path.join(image_path,'merged_stack_'+img_name[:-4]+'.tif'),merged_stacks,check_contrast=False)\n",
    "    df.to_csv(os.path.join(df_path,'measurements_'+img_name[:-4]+'.csv'))\n"
   ]
  },
  {
   "cell_type": "markdown",
   "id": "0b7e4a10",
   "metadata": {},
   "source": [
    "Load in data and filter out masks touching border and small labeled areas created during ground truth annotation"
   ]
  },
  {
   "cell_type": "code",
   "execution_count": 40,
   "id": "98b6a754",
   "metadata": {},
   "outputs": [
    {
     "name": "stderr",
     "output_type": "stream",
     "text": [
      "E:\\Temp\\ipykernel_29820\\2255796120.py:9: UserWarning: Only one label was provided to `remove_small_objects`. Did you mean to use a boolean array?\n",
      "  remove_small_objects = [sk.morphology.remove_small_objects(mask, 50) for mask in relabel_nuclei_masks]\n"
     ]
    }
   ],
   "source": [
    "img_files = sorted(glob(\"E:/Fondufe-Mittendorf_Lab/TEM_Images/Images/*.tif\"))\n",
    "mask_files = sorted(glob(\"E:/Fondufe-Mittendorf_Lab/TEM_Images/Masks/*.tif\"))\n",
    "imgs = list(map(imread,img_files))\n",
    "imgs = [np.asarray(img,dtype=np.uint16) for img in imgs] #make sure all imgs are np compatible arrays\n",
    "nuclei_masks = list(map(imread,mask_files))\n",
    "nuclei_masks = [np.asarray(mask,dtype=np.uint16) for mask in nuclei_masks] #make sure all label images are compatible arrays\n",
    "filtered_nuclei_masks = [sk.segmentation.clear_border(mask) for mask in nuclei_masks]\n",
    "relabel_nuclei_masks = [sk.measure.label(mask) for mask in filtered_nuclei_masks]\n",
    "remove_small_objects = [sk.morphology.remove_small_objects(mask, 50) for mask in relabel_nuclei_masks]"
   ]
  },
  {
   "cell_type": "code",
   "execution_count": 41,
   "id": "25e2315c",
   "metadata": {},
   "outputs": [
    {
     "name": "stderr",
     "output_type": "stream",
     "text": [
      "c:\\ProgramData\\anaconda3\\envs\\CellPoseCLE-env\\lib\\site-packages\\skimage\\filters\\thresholding.py:466: RuntimeWarning: divide by zero encountered in log\n",
      "  crit = np.log(((P1_sq[:-1] * P2_sq[1:]) ** -1) * (P1[:-1] * (1.0 - P1[:-1])) ** 2)\n"
     ]
    }
   ],
   "source": [
    "footprint = sk.morphology.disk(25)\n",
    "bands_25 = band_25_pixels(masks=remove_small_objects,footprint=footprint)\n",
    "dense_roi_masks = norm_and_threshold(imgs)\n",
    "dense_roi_in_nuclei, dense_roi_in_band = dense_rois_in_nuclei_and_band(dense_roi_masks=dense_roi_masks,band_25_pixels=bands_25,relabel_nuc_masks=remove_small_objects)\n",
    "merged_stacks = merge_masks_image(imgs,nuclei_masks,remove_small_objects,bands_25,dense_roi_in_nuclei,dense_roi_in_band)\n",
    "all_heterochromatin_areas, all_band_areas, all_norm_areas = heterochromatin_and_band_areas(dense_roi_in_band,bands_25,scale=[0.0064,0.0064])"
   ]
  },
  {
   "cell_type": "code",
   "execution_count": 42,
   "id": "ac1c2158",
   "metadata": {},
   "outputs": [],
   "source": [
    "#collecting measurements for all images\n",
    "props = ['label', 'area', 'eccentricity', 'equivalent_diameter_area','extent','perimeter','solidity','intensity_max']\n",
    "scale = [0.0064,0.0064] #in um\n",
    "save_loc = 'Results/'\n",
    "for i in range(len(imgs)):\n",
    "    swapped_axis = np.moveaxis(merged_stacks[i],-1,0)\n",
    "    df = get_measurements(merged_stacks[i],props=props,scale=scale,all_heterochromatin_areas=all_heterochromatin_areas[i], all_band_areas=all_band_areas[i], all_norm_areas=all_norm_areas[i])\n",
    "    save_df_and_images(df,swapped_axis,save_loc=save_loc,img_files=img_files[i])"
   ]
  }
 ],
 "metadata": {
  "kernelspec": {
   "display_name": "CellPoseCLE-env",
   "language": "python",
   "name": "python3"
  },
  "language_info": {
   "codemirror_mode": {
    "name": "ipython",
    "version": 3
   },
   "file_extension": ".py",
   "mimetype": "text/x-python",
   "name": "python",
   "nbconvert_exporter": "python",
   "pygments_lexer": "ipython3",
   "version": "3.10.16"
  }
 },
 "nbformat": 4,
 "nbformat_minor": 5
}
