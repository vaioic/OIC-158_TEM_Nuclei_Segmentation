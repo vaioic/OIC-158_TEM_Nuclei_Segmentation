{
 "cells": [
  {
   "cell_type": "markdown",
   "id": "82875105",
   "metadata": {},
   "source": [
    "# OIC-158 TEM Nuclei Segmentation"
   ]
  },
  {
   "cell_type": "code",
   "execution_count": 93,
   "id": "1af232a6",
   "metadata": {},
   "outputs": [],
   "source": [
    "import napari\n",
    "import numpy as np\n",
    "import pyclesperanto as cle\n",
    "import skimage as sk\n",
    "from skimage.io import imread, imsave\n",
    "import pandas as pd\n",
    "import os\n",
    "from glob import glob\n",
    "import matplotlib as mpl\n",
    "import matplotlib.pyplot as plt"
   ]
  },
  {
   "cell_type": "code",
   "execution_count": null,
   "id": "98b6a754",
   "metadata": {},
   "outputs": [],
   "source": [
    "img_files = sorted(glob(\"E:/Fondufe-Mittendorf_Lab/TEM_Images/Images/*.tif\"))\n",
    "mask_files = sorted(glob(\"E:/Fondufe-Mittendorf_Lab/TEM_Images/Masks/*.tif\"))\n",
    "imgs = list(map(imread,img_files))\n",
    "masks = list(map(imread,mask_files))"
   ]
  },
  {
   "cell_type": "code",
   "execution_count": 12,
   "id": "db049fc3",
   "metadata": {},
   "outputs": [],
   "source": [
    "filtered_masks = [sk.segmentation.clear_border(mask) for mask in masks]"
   ]
  },
  {
   "cell_type": "code",
   "execution_count": 15,
   "id": "6734f886",
   "metadata": {},
   "outputs": [],
   "source": [
    "label_stack = np.stack(filtered_masks, axis=0)"
   ]
  },
  {
   "cell_type": "code",
   "execution_count": 34,
   "id": "30a3f58a",
   "metadata": {},
   "outputs": [
    {
     "name": "stderr",
     "output_type": "stream",
     "text": [
      "WARNING: DirectWrite: CreateFontFaceFromHDC() failed (Indicates an error in an input file such as a font file.) for QFontDef(Family=\"\", pointsize=12, pixelsize=16, styleHint=5, weight=50, stretch=100, hintingPreference=0) LOGFONT(\"MS Sans Serif\", lfWidth=0, lfHeight=-16) dpi=144\n"
     ]
    }
   ],
   "source": [
    "viewer = napari.view_image(label_stack)"
   ]
  },
  {
   "cell_type": "code",
   "execution_count": 87,
   "id": "924f9e92",
   "metadata": {},
   "outputs": [
    {
     "name": "stdout",
     "output_type": "stream",
     "text": [
      "label: 1\n",
      "label: 2\n"
     ]
    }
   ],
   "source": [
    "#to get the number of fragments of nuclei, current min size setting will not remove small intended nuclei fragments\n",
    "test_mask = filtered_masks[11]\n",
    "filtered_props = sk.measure.regionprops(test_mask)\n",
    "relabeled = sk.morphology.remove_small_objects(sk.measure.label(test_mask),min_size=50) #add this layer as an \"intensity image\" to get the nuc ID it belongs to, low min size to remove small disconnected pixels from ground truth labels\n",
    "relabel_props = sk.measure.regionprops(relabeled)\n",
    "for i in range(len(relabel_props)):\n",
    "    print('label:', relabel_props[i].label)\n",
    "\n",
    "\n",
    "# viewer = napari.view_image(relabeled)\n",
    "# viewer.add_image(masks[11])"
   ]
  },
  {
   "cell_type": "code",
   "execution_count": null,
   "id": "939debc8",
   "metadata": {},
   "outputs": [
    {
     "data": {
      "text/plain": [
       "<Labels layer 'band' at 0x20cf25f5060>"
      ]
     },
     "execution_count": 27,
     "metadata": {},
     "output_type": "execute_result"
    }
   ],
   "source": [
    "#erode objects to get a thin outer border (disc size 25 is better option)\n",
    "footprint_50 = sk.morphology.disk(50)\n",
    "eroded = sk.morphology.erosion(test_mask,footprint_50)\n",
    "band_50 = test_mask - eroded\n",
    "# viewer = napari.view_image(relabeled)\n",
    "# viewer.add_labels(eroded)\n",
    "# viewer.add_labels(band_50)"
   ]
  },
  {
   "cell_type": "code",
   "execution_count": 88,
   "id": "259305b0",
   "metadata": {},
   "outputs": [],
   "source": [
    "test_mask = filtered_masks[11]\n",
    "footprint_25 = sk.morphology.disk(25)\n",
    "eroded = sk.morphology.erosion(test_mask,footprint_25)\n",
    "band_25 = test_mask - eroded\n",
    "# viewer = napari.view_image(imgs[11])\n",
    "# viewer.add_labels(eroded)\n",
    "# viewer.add_labels(band_25, name='25')"
   ]
  },
  {
   "cell_type": "markdown",
   "id": "5be7f295",
   "metadata": {},
   "source": [
    "### Multi-Otsu testing\n",
    "4 classes with preprocessing of gaussian sigma=2; use with ground truth masks\n",
    "\n",
    "Use to measure the dense heterochromatin along the membrane and the nucleoli within the nuclei"
   ]
  },
  {
   "cell_type": "code",
   "execution_count": null,
   "id": "79beea67",
   "metadata": {},
   "outputs": [],
   "source": [
    "#find threshold or approach that works well for segmenting the dense areas\n",
    "#multi-otsu\n",
    "mask = test_mask == 1\n",
    "gauss = sk.filters.gaussian(imgs[11], sigma=2)\n",
    "masked_img = mask * gauss\n",
    "o1,o2,o3 = sk.filters.threshold_multiotsu(image=masked_img, classes=4)\n",
    "\n"
   ]
  },
  {
   "cell_type": "code",
   "execution_count": 61,
   "id": "810020a2",
   "metadata": {},
   "outputs": [],
   "source": [
    "otsu1 = (masked_img < o1)*mask\n",
    "otsu2 = (masked_img < o2)*mask\n",
    "otsu3 = (masked_img < o3)*mask"
   ]
  },
  {
   "cell_type": "code",
   "execution_count": 62,
   "id": "26ebbf36",
   "metadata": {},
   "outputs": [
    {
     "data": {
      "text/plain": [
       "<Labels layer 'otsu3' at 0x20eea6ed990>"
      ]
     },
     "execution_count": 62,
     "metadata": {},
     "output_type": "execute_result"
    }
   ],
   "source": [
    "viewer = napari.view_image(imgs[11], name='image')\n",
    "viewer.add_labels(otsu1, name='otsu1')\n",
    "viewer.add_labels(otsu2, name='otsu2')\n",
    "viewer.add_labels(otsu3, name='otsu3')"
   ]
  },
  {
   "cell_type": "code",
   "execution_count": 116,
   "id": "e07ea6c7",
   "metadata": {},
   "outputs": [],
   "source": [
    "test_img = imgs[24]\n",
    "test_img = np.asarray(test_img,dtype=np.uint16)"
   ]
  },
  {
   "cell_type": "code",
   "execution_count": 117,
   "id": "122f6b99",
   "metadata": {},
   "outputs": [],
   "source": [
    "# Correct uneven illumination\n",
    "\n",
    "adpt_norm = sk.exposure.equalize_adapthist(test_img)\n",
    "norm = sk.exposure.equalize_hist(test_img)\n",
    "# viewer = napari.view_image(test_img)\n",
    "# viewer.add_image(adpt_norm, name='adapt norm')\n",
    "# viewer.add_image(norm, name='norm')"
   ]
  },
  {
   "cell_type": "code",
   "execution_count": 85,
   "id": "dc442cdb",
   "metadata": {},
   "outputs": [
    {
     "data": {
      "text/plain": [
       "<Image layer 'gamma' at 0x20f1aae89d0>"
      ]
     },
     "execution_count": 85,
     "metadata": {},
     "output_type": "execute_result"
    }
   ],
   "source": [
    "# add in gamma and contrast adjustment to enhance dense regions\n",
    "gamma_adjust = sk.exposure.adjust_gamma(adpt_norm, gamma=1.5)\n",
    "viewer = napari.view_image(adpt_norm)\n",
    "viewer.add_image(gamma_adjust, name='gamma')"
   ]
  },
  {
   "cell_type": "markdown",
   "id": "13f42505",
   "metadata": {},
   "source": [
    "## Testing Sobel and Canny for segmenting the nuclei"
   ]
  },
  {
   "cell_type": "markdown",
   "id": "22f9eb6a",
   "metadata": {},
   "source": [
    "### Canny Testing\n",
    "Close! But not enough connectivity with the lines from canny\n"
   ]
  },
  {
   "cell_type": "code",
   "execution_count": 72,
   "id": "27ca7e27",
   "metadata": {},
   "outputs": [],
   "source": [
    "footprint = sk.morphology.disk(6)\n",
    "top_hat = sk.morphology.black_tophat(adpt_norm)\n",
    "viewer = napari.view_image(top_hat)"
   ]
  },
  {
   "cell_type": "code",
   "execution_count": 86,
   "id": "da46b949",
   "metadata": {},
   "outputs": [
    {
     "data": {
      "text/plain": [
       "<Image layer 'edges' at 0x20f1aae87c0>"
      ]
     },
     "execution_count": 86,
     "metadata": {},
     "output_type": "execute_result"
    }
   ],
   "source": [
    "edges = sk.feature.canny(gamma_adjust, sigma=2.4)\n",
    "viewer = napari.view_image(adpt_norm)\n",
    "viewer.add_image(edges, name='edges')"
   ]
  },
  {
   "cell_type": "markdown",
   "id": "15800403",
   "metadata": {},
   "source": [
    "## Sobel Testing\n",
    "Not the best approach for TEM images. Not enough contrast in the staining for sobel to find the features of interest"
   ]
  },
  {
   "cell_type": "code",
   "execution_count": 77,
   "id": "1b81060f",
   "metadata": {},
   "outputs": [
    {
     "data": {
      "text/plain": [
       "<Image layer 'edges' at 0x20f38e36860>"
      ]
     },
     "execution_count": 77,
     "metadata": {},
     "output_type": "execute_result"
    }
   ],
   "source": [
    "edges = sk.filters.sobel(adpt_norm)\n",
    "viewer = napari.view_image(adpt_norm)\n",
    "viewer.add_image(edges, name='edges')"
   ]
  },
  {
   "cell_type": "markdown",
   "id": "86f57acf",
   "metadata": {},
   "source": [
    "## Multi-Otsu on histogram equalized images\n",
    "Use second otsu value"
   ]
  },
  {
   "cell_type": "code",
   "execution_count": 132,
   "id": "81dc335c",
   "metadata": {},
   "outputs": [],
   "source": [
    "#test image and masks\n",
    "test_mask = filtered_masks[4]\n",
    "test_img = np.asarray(imgs[4],dtype=np.uint16)\n",
    "adpt_norm = sk.exposure.equalize_adapthist(test_img)"
   ]
  },
  {
   "cell_type": "code",
   "execution_count": 134,
   "id": "c5f534aa",
   "metadata": {},
   "outputs": [
    {
     "data": {
      "text/plain": [
       "<Labels layer 'otsu2' at 0x20ffcb027d0>"
      ]
     },
     "execution_count": 134,
     "metadata": {},
     "output_type": "execute_result"
    }
   ],
   "source": [
    "mask = test_mask == 1\n",
    "gauss = sk.filters.gaussian(adpt_norm, sigma=1)\n",
    "masked_img = mask * gauss\n",
    "# o1,o2,o3 = sk.filters.threshold_multiotsu(image=masked_img, classes=4)\n",
    "# otsu1 = (masked_img < o1)*mask\n",
    "# otsu2 = (masked_img < o2)*mask\n",
    "# otsu3 = (masked_img < o3)*mask\n",
    "viewer = napari.view_image(adpt_norm, name='image')\n",
    "#viewer.add_labels(otsu1, name='otsu1')\n",
    "viewer.add_labels(otsu2, name='otsu2')\n",
    "#viewer.add_labels(otsu3, name='otsu3')"
   ]
  },
  {
   "cell_type": "code",
   "execution_count": 122,
   "id": "49e97900",
   "metadata": {},
   "outputs": [],
   "source": [
    "labeled_img = sk.morphology.label(otsu2)\n",
    "props = ['label','area']\n",
    "region_props = sk.measure.regionprops_table(labeled_img,properties=props)\n",
    "df = pd.DataFrame.from_dict(region_props)\n",
    "areas = np.asarray(df['area'])"
   ]
  },
  {
   "cell_type": "code",
   "execution_count": 123,
   "id": "5485666e",
   "metadata": {},
   "outputs": [
    {
     "data": {
      "image/png": "[encoded data removed]",
      "text/plain": [
       "<Figure size 640x480 with 1 Axes>"
      ]
     },
     "metadata": {},
     "output_type": "display_data"
    }
   ],
   "source": [
    "fig, ax = plt.subplots()\n",
    "ax.hist(areas,bins=100,range=[0,2000])\n",
    "ax.set_yscale('log')\n",
    "plt.show()"
   ]
  },
  {
   "cell_type": "code",
   "execution_count": 124,
   "id": "dd5afb74",
   "metadata": {},
   "outputs": [
    {
     "data": {
      "text/plain": [
       "<Labels layer 'otsu' at 0x20fcccc2d40>"
      ]
     },
     "execution_count": 124,
     "metadata": {},
     "output_type": "execute_result"
    }
   ],
   "source": [
    "#filter out small objects and fill holes\n",
    "filtered = sk.morphology.remove_small_objects(sk.morphology.remove_small_holes(otsu2,area_threshold=10000),min_size=500)\n",
    "viewer = napari.view_image(adpt_norm, name='img')\n",
    "viewer.add_labels(filtered, name='labels')\n",
    "viewer.add_labels(otsu2, name='otsu')"
   ]
  },
  {
   "cell_type": "code",
   "execution_count": 115,
   "id": "b4073b78",
   "metadata": {},
   "outputs": [
    {
     "data": {
      "text/plain": [
       "<Labels layer 'band' at 0x20fb2b50d00>"
      ]
     },
     "execution_count": 115,
     "metadata": {},
     "output_type": "execute_result"
    }
   ],
   "source": [
    "viewer.add_labels(band_25,name='band')"
   ]
  },
  {
   "cell_type": "markdown",
   "id": "c647216d",
   "metadata": {},
   "source": [
    "## Adding in measurements of heterochromatin in band and nucleoli in nuclei"
   ]
  },
  {
   "cell_type": "code",
   "execution_count": null,
   "id": "0ed196db",
   "metadata": {},
   "outputs": [],
   "source": [
    "view"
   ]
  }
 ],
 "metadata": {
  "kernelspec": {
   "display_name": "CellPoseCLE-env",
   "language": "python",
   "name": "python3"
  },
  "language_info": {
   "codemirror_mode": {
    "name": "ipython",
    "version": 3
   },
   "file_extension": ".py",
   "mimetype": "text/x-python",
   "name": "python",
   "nbconvert_exporter": "python",
   "pygments_lexer": "ipython3",
   "version": "3.10.16"
  }
 },
 "nbformat": 4,
 "nbformat_minor": 5
}
