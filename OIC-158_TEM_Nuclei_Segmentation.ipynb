{
 "cells": [
  {
   "cell_type": "markdown",
   "id": "82875105",
   "metadata": {},
   "source": [
    "# OIC-158 TEM Nuclei Segmentation\n",
    "Packages to import"
   ]
  },
  {
   "cell_type": "code",
   "execution_count": 1,
   "id": "1af232a6",
   "metadata": {},
   "outputs": [],
   "source": [
    "import napari\n",
    "import numpy as np\n",
    "import pyclesperanto as cle\n",
    "import skimage as sk\n",
    "from skimage.io import imread, imsave\n",
    "import pandas as pd\n",
    "import os\n",
    "from glob import glob\n",
    "import matplotlib as mpl\n",
    "import matplotlib.pyplot as plt"
   ]
  },
  {
   "cell_type": "markdown",
   "id": "87add585",
   "metadata": {},
   "source": [
    "All functions for pipeline"
   ]
  },
  {
   "cell_type": "code",
   "execution_count": null,
   "id": "892076fe",
   "metadata": {},
   "outputs": [],
   "source": [
    "#Create a 25-pixel wide band along perimeter of nucleus\n",
    "def band_25_pixels(masks,footprint):\n",
    "    eroded = [sk.morphology.erosion(mask, footprint=footprint) for mask in masks]\n",
    "    bands = [masks[i] - eroded[i] for i in range(len(masks))]\n",
    "    return bands\n",
    "\n",
    "#Threshold the dense regions within whole image\n",
    "def norm_and_threhsold(imgs,max_hole=100,min_object=20,match_img=3):\n",
    "    adpt_norm = [sk.exposure.equalize_adapthist(img) for img in imgs]\n",
    "    matched_hist = [sk.exposure.match_histograms(img, adpt_norm[match_img]) for img in adpt_norm]\n",
    "    filtered = []\n",
    "    for img in matched_hist:\n",
    "        yen = sk.filters.threshold_yen(img)\n",
    "        mask = img < yen\n",
    "        dilate = sk.morphology.dilation(mask)\n",
    "        filtered.append(sk.morphology.remove_small_objects(sk.morphology.remove_small_holes(dilate,area_threshold=max_hole),min_size=min_object))\n",
    "    return filtered\n",
    "\n",
    "#Get dense roi masks within the nuclei and 25-pixel band\n",
    "def dense_rois_in_nuclei_and_band(dense_roi_masks, band_25_pixels, relabel_nuc_masks):\n",
    "    dense_roi_in_nuclei = [dense_roi_masks[i] * relabel_nuc_masks[i] for i in range(len(relabel_nuc_masks))]\n",
    "    dense_roi_in_band = [dense_roi_in_nuclei[i] * band_25_pixels[i] for i in range(len(band_25_pixels))]\n",
    "    return dense_roi_in_nuclei, dense_roi_in_band\n",
    "\n",
    "#merge masks and image into array for measurements\n",
    "def merge_masks_image(imgs,relabel_nuclei_masks,band_25_pixels,dense_roi_in_nuclei, dense_roi_in_band):\n",
    "    merged_stacks = []\n",
    "    for i in range(len(imgs)):\n",
    "        stack = np.stack([imgs[i],relabel_nuclei_masks[i],band_25_pixels[i],dense_roi_in_nuclei[i],dense_roi_in_band[i]],axis=-1)\n",
    "        merged_stacks.append(stack)\n",
    "    return merged_stacks\n",
    "\n",
    "#Get heterochromatin and band areas as lists\n",
    "def heterochromatin_and_band_areas(dense_roi_in_band, band_25_pixels, scale):\n",
    "    all_heterochromatin_areas = []\n",
    "    all_band_areas = []\n",
    "    all_norm_areas = []\n",
    "    for i in range(len(band_25_pixels)):\n",
    "        i_heterochromatin_areas = []\n",
    "        i_band_areas = []\n",
    "        i_norm_areas = []\n",
    "        band_props = sk.measure.regionprops(band_25_pixels[i],spacing=scale)\n",
    "        heterochromatin_props = sk.measure.regionprops(dense_roi_in_band[i],spacing=scale)\n",
    "        for j in range(len(band_props)):\n",
    "            band_area = band_props[j].area\n",
    "            heterochromatin_area = heterochromatin_props[j].area\n",
    "            norm_area = heterochromatin_area/band_area\n",
    "            i_heterochromatin_areas.append(heterochromatin_area)\n",
    "            i_band_areas.append(band_area)\n",
    "            i_norm_areas.append(norm_area)\n",
    "        all_heterochromatin_areas.append(i_heterochromatin_areas)\n",
    "        all_band_areas.append(i_band_areas)\n",
    "        all_norm_areas.append(i_norm_areas)\n",
    "    return all_heterochromatin_areas, all_band_areas, all_norm_areas\n",
    "\n",
    "#Get measurements for all compartments and merge dataframes together (run in loop for all images)\n",
    "def get_measurements(merged_stacks,props,scale,all_heterochromatin_areas, all_band_areas, all_norm_areas):\n",
    "    heterochromatin_areas_df = pd.Series(all_heterochromatin_areas,name='heterochromatin_area_in_band_um^2')\n",
    "    band_areas_df = pd.Series(all_band_areas, name='25-pixel_band_area_um^2')\n",
    "    norm_area_df = pd.Series(all_norm_areas, name='norm_area_heterochromatin_in_band')\n",
    "    nuc_measurements_table = sk.measure.regionprops_table(merged_stacks[:,:,1],merged_stacks,props,spacing=scale)\n",
    "    nuc_regionprops = sk.measure.regionprops(merged_stacks[:,:,1],spacing=scale)\n",
    "    circularity = []\n",
    "    for i in range(len(nuc_regionprops)):\n",
    "        nuc_area = nuc_regionprops[i].area\n",
    "        nuc_perimeter = nuc_regionprops[i].perimeter\n",
    "        circularity.append(4*np.pi*nuc_area/nuc_perimeter**2)\n",
    "    circularity = pd.Series(circularity,name='nuc_circularity')\n",
    "    nuc_df = pd.DataFrame.from_dict(nuc_measurements_table)\n",
    "    nuc_df.rename(columns={'label':'cell_ID','area':'Nuc_area_um^2','intensity_max-0':'Image_intensity_max',\n",
    "                           'intensity_max-1':'Nuc_ID','intensity_max-2':'Band_ID','intensity_max-3':'Dense_nuc_regions_ID',\n",
    "                           'intensity_max-4':'Heterochromatin_Band_ID','equivalent_diameter_area':'equivalent_diameter_area_um^2',\n",
    "                           'perimeter':'perimeter_um'},inplace=True)\n",
    "    df = pd.concat([nuc_df,circularity,heterochromatin_areas_df,band_areas_df,norm_area_df], axis=1)\n",
    "    return df\n",
    "\n",
    "#save images as tiffs and dataframes as csv (run in loop for all images along with get measurements function)\n",
    "def save_df_and_images(df,merged_stacks,save_loc, img_files):\n",
    "    image_path = os.path.join(save_loc,'merged_imgs')\n",
    "    df_path = os.path.join(save_loc,'measurements')\n",
    "    img_name = os.path.basename(img_files)\n",
    "    imsave(os.path.join(image_path,'merged_stack_'+img_name[:-4]+'.tif'),merged_stacks,check_contrast=False)\n",
    "    df.to_csv(os.path.join(df_path,'measurements_'+img_name[:-4]+'.csv'))\n"
   ]
  },
  {
   "cell_type": "markdown",
   "id": "0b7e4a10",
   "metadata": {},
   "source": [
    "Load in data and filter out masks touching border and small labeled areas created during ground truth annotation"
   ]
  },
  {
   "cell_type": "code",
   "execution_count": 20,
   "id": "98b6a754",
   "metadata": {},
   "outputs": [
    {
     "name": "stderr",
     "output_type": "stream",
     "text": [
      "E:\\Temp\\ipykernel_29820\\2255796120.py:9: UserWarning: Only one label was provided to `remove_small_objects`. Did you mean to use a boolean array?\n",
      "  remove_small_objects = [sk.morphology.remove_small_objects(mask, 50) for mask in relabel_nuclei_masks]\n"
     ]
    }
   ],
   "source": [
    "img_files = sorted(glob(\"E:/Fondufe-Mittendorf_Lab/TEM_Images/Images/*.tif\"))\n",
    "mask_files = sorted(glob(\"E:/Fondufe-Mittendorf_Lab/TEM_Images/Masks/*.tif\"))\n",
    "imgs = list(map(imread,img_files))\n",
    "imgs = [np.asarray(img,dtype=np.uint16) for img in imgs] #make sure all imgs are np compatible arrays\n",
    "nuclei_masks = list(map(imread,mask_files))\n",
    "nuclei_masks = [np.asarray(mask,dtype=np.uint16) for mask in nuclei_masks] #make sure all label images are compatible arrays\n",
    "filtered_nuclei_masks = [sk.segmentation.clear_border(mask) for mask in nuclei_masks]\n",
    "relabel_nuclei_masks = [sk.measure.label(mask) for mask in filtered_nuclei_masks]\n",
    "remove_small_objects = [sk.morphology.remove_small_objects(mask, 50) for mask in relabel_nuclei_masks]"
   ]
  },
  {
   "cell_type": "code",
   "execution_count": 22,
   "id": "25e2315c",
   "metadata": {},
   "outputs": [
    {
     "name": "stderr",
     "output_type": "stream",
     "text": [
      "c:\\ProgramData\\anaconda3\\envs\\CellPoseCLE-env\\lib\\site-packages\\skimage\\filters\\thresholding.py:466: RuntimeWarning: divide by zero encountered in log\n",
      "  crit = np.log(((P1_sq[:-1] * P2_sq[1:]) ** -1) * (P1[:-1] * (1.0 - P1[:-1])) ** 2)\n"
     ]
    }
   ],
   "source": [
    "footprint = sk.morphology.disk(25)\n",
    "bands_25 = band_25_pixels(masks=remove_small_objects,footprint=footprint)\n",
    "dense_roi_masks = norm_and_threhsold(imgs)\n",
    "dense_roi_in_nuclei, dense_roi_in_band = dense_rois_in_nuclei_and_band(dense_roi_masks=dense_roi_masks,band_25_pixels=bands_25,relabel_nuc_masks=remove_small_objects)\n",
    "merged_stacks = merge_masks_image(imgs,remove_small_objects,bands_25,dense_roi_in_nuclei,dense_roi_in_band)\n",
    "heterochromatin_areas = heterochromatin_area(dense_roi_in_band,bands_25,scale=[0.0064,0.0064])\n"
   ]
  },
  {
   "cell_type": "code",
   "execution_count": 25,
   "id": "3fc8a63a",
   "metadata": {},
   "outputs": [],
   "source": [
    "heterochromatin_areas = heterochromatin_area(dense_roi_in_band,bands_25,scale=[0.0064,0.0064])"
   ]
  },
  {
   "cell_type": "code",
   "execution_count": 26,
   "id": "ac1c2158",
   "metadata": {},
   "outputs": [],
   "source": [
    "#collecting measurements for all images\n",
    "props = ['label', 'area', 'eccentricity', 'equivalent_diameter_area','extent','perimeter','solidity','intensity_max']\n",
    "scale = [0.0064,0.0064] #in um\n",
    "save_loc = 'Results/'\n",
    "for i in range(len(imgs)):\n",
    "    swapped_axis = np.moveaxis(merged_stacks[i],-1,0)\n",
    "    df = get_measurements(merged_stacks[i],props=props,scale=scale,heterochromatin_areas=heterochromatin_areas[i])\n",
    "    save_df_and_images(df,swapped_axis,save_loc=save_loc,img_files=img_files[i])"
   ]
  },
  {
   "cell_type": "markdown",
   "id": "17216228",
   "metadata": {},
   "source": [
    "### testing cells for creating band"
   ]
  },
  {
   "cell_type": "code",
   "execution_count": null,
   "id": "939debc8",
   "metadata": {},
   "outputs": [],
   "source": [
    "#erode objects to get a thin outer border (disc size 25 is better option)\n",
    "footprint_50 = sk.morphology.disk(50)\n",
    "eroded = sk.morphology.erosion(test_mask,footprint_50)\n",
    "band_50 = test_mask - eroded\n",
    "# viewer = napari.view_image(relabeled)\n",
    "# viewer.add_labels(eroded)\n",
    "# viewer.add_labels(band_50)"
   ]
  },
  {
   "cell_type": "code",
   "execution_count": null,
   "id": "259305b0",
   "metadata": {},
   "outputs": [],
   "source": [
    "test_mask = filtered_masks[11]\n",
    "footprint_25 = sk.morphology.disk(25)\n",
    "eroded = sk.morphology.erosion(test_mask,footprint_25)\n",
    "band_25 = test_mask - eroded\n",
    "# viewer = napari.view_image(imgs[11])\n",
    "# viewer.add_labels(eroded)\n",
    "# viewer.add_labels(band_25, name='25')"
   ]
  },
  {
   "cell_type": "markdown",
   "id": "f36cdc98",
   "metadata": {},
   "source": [
    "## Thresholding with Yen"
   ]
  },
  {
   "cell_type": "code",
   "execution_count": null,
   "id": "ffc3f520",
   "metadata": {},
   "outputs": [],
   "source": [
    "#footprint = sk.morphology.disk(2)\n",
    "adpt_norm = [sk.exposure.equalize_adapthist(img) for img in imgs]\n",
    "matched_hist = [sk.exposure.match_histograms(img, adpt_norm[3]) for img in adpt_norm]\n",
    "filtered = []\n",
    "for img in matched_hist:\n",
    "    yen = sk.filters.threshold_yen(img)\n",
    "    mask = img < yen\n",
    "    dilate = sk.morphology.dilation(mask)\n",
    "    filtered.append(sk.morphology.remove_small_objects(sk.morphology.remove_small_holes(dilate,area_threshold=100),min_size=20))"
   ]
  },
  {
   "cell_type": "code",
   "execution_count": null,
   "id": "85816d40",
   "metadata": {},
   "outputs": [],
   "source": [
    "stack = np.stack(filtered)\n",
    "viewer = napari.view_labels(stack)"
   ]
  },
  {
   "cell_type": "markdown",
   "id": "54422ebd",
   "metadata": {},
   "source": [
    "## Get area of band covered by dense signal"
   ]
  },
  {
   "cell_type": "code",
   "execution_count": null,
   "id": "6bc358df",
   "metadata": {},
   "outputs": [],
   "source": [
    "mask_dense_nuclei = [filtered[i] * relabel_masks[i] for i in range(len(filtered))]\n",
    "#mask_dense_nuclei_stack = np.stack(mask_dense_nuclei)\n",
    "dense_band = [mask_dense_nuclei[i] * bands[i] for i in range(len(mask_dense_nuclei))]\n",
    "#dense_band_stack = np.stack(dense_band)\n",
    "\n"
   ]
  },
  {
   "cell_type": "markdown",
   "id": "5307ba68",
   "metadata": {},
   "source": [
    "Merge the image and all masks into arrays"
   ]
  },
  {
   "cell_type": "code",
   "execution_count": null,
   "id": "56dc48c2",
   "metadata": {},
   "outputs": [],
   "source": [
    "merged_stacks = []\n",
    "for i in range(len(imgs)):\n",
    "    stack = np.stack([imgs[i],relabel_masks[i],bands[i],mask_dense_nuclei[i],dense_band[i]],axis=-1)\n",
    "    merged_stacks.append(stack)"
   ]
  },
  {
   "cell_type": "code",
   "execution_count": null,
   "id": "41edda68",
   "metadata": {},
   "outputs": [],
   "source": [
    "merged_stacks[0].shape"
   ]
  },
  {
   "cell_type": "markdown",
   "id": "16d20b7b",
   "metadata": {},
   "source": [
    "## Get measurements"
   ]
  },
  {
   "cell_type": "code",
   "execution_count": null,
   "id": "4560bdce",
   "metadata": {},
   "outputs": [],
   "source": [
    "props = ['label', 'area', 'eccentricity', 'equivalent_diameter_area','extent','perimeter','solidity','intensity_max',]\n",
    "scale = [0.0064,0.0064]"
   ]
  },
  {
   "cell_type": "code",
   "execution_count": null,
   "id": "b51c7dc2",
   "metadata": {},
   "outputs": [],
   "source": [
    "def heterochromatin_area(heterochromatin_band, bands, scale):\n",
    "    areas = []\n",
    "    for i in range(1,np.max(bands)):\n",
    "        band = bands == i\n",
    "        mask = band * heterochromatin_band\n",
    "        area = (np.count_nonzero(mask) * scale[0] * scale[1])\n",
    "        areas.append(area)\n",
    "    areas_df = pd.Series(areas, name='heterochromatin_area_um^2')\n",
    "    return areas, areas_df\n"
   ]
  },
  {
   "cell_type": "code",
   "execution_count": null,
   "id": "90ee0384",
   "metadata": {},
   "outputs": [],
   "source": [
    "areas, areas_df = heterochromatin_area(heterochromatin_band=dense_band[24],bands=bands[24],scale=scale)\n",
    "areas"
   ]
  },
  {
   "cell_type": "code",
   "execution_count": null,
   "id": "3d841aec",
   "metadata": {},
   "outputs": [],
   "source": [
    "def get_measurements(img_stack,props,scale,heterochromatin_areas, heterochromatin_area_df):\n",
    "    nuc_measurements_table = sk.measure.regionprops_table(img_stack[:,:,1],img_stack,props,spacing=scale)\n",
    "    nuc_regionprops = sk.measure.regionprops(img_stack[:,:,1],spacing=scale)\n",
    "    band_25_measurements= sk.measure.regionprops_table(img_stack[:,:,2],properties=('label','area'),spacing=scale)\n",
    "    band_25_df = pd.DataFrame.from_dict(band_25_measurements)\n",
    "    band_25_df = band_25_df.rename(columns={'label':'Band_ID','area':'area_um^2'})\n",
    "    circularity = []\n",
    "    for i in range(len(nuc_regionprops)):\n",
    "        nuc_area = nuc_regionprops[i].area\n",
    "        nuc_perimeter = nuc_regionprops[i].perimeter\n",
    "        circularity.append(4*np.pi*nuc_area/nuc_perimeter**2)\n",
    "    circularity = pd.Series(circularity,name='nuc_circularity')\n",
    "    percent_band_covered = []\n",
    "    band_25_regionprops= sk.measure.regionprops(img_stack[:,:,2],spacing=scale)\n",
    "    for i in range(len(heterochromatin_areas)):\n",
    "        band_area = band_25_regionprops[i].area\n",
    "        percent_covered = heterochromatin_areas[i]/band_area\n",
    "        percent_band_covered.append(percent_covered)\n",
    "    percent_band_covered = pd.Series(percent_band_covered, name='norm_area_heterochromatin_band')\n",
    "    nuc_df = pd.DataFrame.from_dict(nuc_measurements_table)\n",
    "    nuc_df.rename(columns={'label':'cell_ID','area':'Nuc_area_um^2','intensity_max-0':'Image_intensity_max',\n",
    "                           'intensity_max-1':'Nuc_ID','intensity_max-2':'Band_ID','intensity_max-3':'Dense_nuc_regions_ID',\n",
    "                           'intensity_max-4':'Heterochromatin_Band_ID','equivalent_diameter_area':'equivalent_diameter_area_um^2',\n",
    "                           'perimeter':'perimeter_um'},inplace=True)\n",
    "    df = pd.concat([nuc_df,circularity,heterochromatin_area_df,percent_band_covered,band_25_df], axis=1)\n",
    "    return df\n"
   ]
  },
  {
   "cell_type": "code",
   "execution_count": null,
   "id": "0f711c29",
   "metadata": {},
   "outputs": [],
   "source": [
    "test_measurements = get_measurements(merged_stacks[24],props,scale,heterochromatin_areas=areas,heterochromatin_area_df=areas_df)"
   ]
  },
  {
   "cell_type": "code",
   "execution_count": null,
   "id": "a7171fbf",
   "metadata": {},
   "outputs": [],
   "source": [
    "test_measurements.head()"
   ]
  },
  {
   "cell_type": "code",
   "execution_count": null,
   "id": "3c57891b",
   "metadata": {},
   "outputs": [],
   "source": [
    "viewer = napari.view_image(images_stack, name='img')\n",
    "viewer.add_labels(label_stack, name='nuclei mask')\n",
    "viewer.add_labels(bands_stack,name='25px band')\n",
    "viewer.add_labels(mask_dense_nuclei_stack,name='dense areas in nuc')\n",
    "viewer.add_labels(dense_band_stack, name='heterochromatin/')\n"
   ]
  },
  {
   "cell_type": "markdown",
   "id": "5be7f295",
   "metadata": {},
   "source": [
    "### Multi-Otsu testing\n",
    "4 classes with preprocessing of gaussian sigma=2; use with ground truth masks\n",
    "\n",
    "Use to measure the dense heterochromatin along the membrane and the nucleoli within the nuclei"
   ]
  },
  {
   "cell_type": "code",
   "execution_count": null,
   "id": "79beea67",
   "metadata": {},
   "outputs": [],
   "source": [
    "#find threshold or approach that works well for segmenting the dense areas\n",
    "#multi-otsu\n",
    "mask = test_mask == 1\n",
    "gauss = sk.filters.gaussian(imgs[11], sigma=2)\n",
    "masked_img = mask * gauss\n",
    "o1,o2,o3 = sk.filters.threshold_multiotsu(image=masked_img, classes=4)\n",
    "\n"
   ]
  },
  {
   "cell_type": "code",
   "execution_count": null,
   "id": "810020a2",
   "metadata": {},
   "outputs": [],
   "source": [
    "otsu1 = (masked_img < o1)*mask\n",
    "otsu2 = (masked_img < o2)*mask\n",
    "otsu3 = (masked_img < o3)*mask"
   ]
  },
  {
   "cell_type": "code",
   "execution_count": null,
   "id": "26ebbf36",
   "metadata": {},
   "outputs": [],
   "source": [
    "viewer = napari.view_image(imgs[11], name='image')\n",
    "viewer.add_labels(otsu1, name='otsu1')\n",
    "viewer.add_labels(otsu2, name='otsu2')\n",
    "viewer.add_labels(otsu3, name='otsu3')"
   ]
  },
  {
   "cell_type": "code",
   "execution_count": null,
   "id": "e07ea6c7",
   "metadata": {},
   "outputs": [],
   "source": [
    "test_img = imgs[24]\n",
    "test_img = np.asarray(test_img,dtype=np.uint16)"
   ]
  },
  {
   "cell_type": "markdown",
   "id": "0699bc23",
   "metadata": {},
   "source": [
    "## Test histogram norm with histogram matching"
   ]
  },
  {
   "cell_type": "code",
   "execution_count": null,
   "id": "122f6b99",
   "metadata": {},
   "outputs": [],
   "source": [
    "# Correct uneven illumination\n",
    "\n",
    "adpt_norm = sk.exposure.equalize_adapthist(test_img)\n",
    "norm = sk.exposure.equalize_hist(test_img)\n",
    "# viewer = napari.view_image(test_img)\n",
    "# viewer.add_image(adpt_norm, name='adapt norm')\n",
    "# viewer.add_image(norm, name='norm')"
   ]
  },
  {
   "cell_type": "code",
   "execution_count": null,
   "id": "dc442cdb",
   "metadata": {},
   "outputs": [],
   "source": [
    "# add in gamma and contrast adjustment to enhance dense regions; didn't make a large difference for thresholding\n",
    "gamma_adjust = sk.exposure.adjust_gamma(adpt_norm, gamma=1.5)\n",
    "viewer = napari.view_image(adpt_norm)\n",
    "viewer.add_image(gamma_adjust, name='gamma')"
   ]
  },
  {
   "cell_type": "code",
   "execution_count": null,
   "id": "82f2e303",
   "metadata": {},
   "outputs": [],
   "source": [
    "# some images fail on ostu multiclass, testing if matching histogram to images that have successful ostu works\n"
   ]
  },
  {
   "cell_type": "markdown",
   "id": "13f42505",
   "metadata": {},
   "source": [
    "## Testing Sobel and Canny for segmenting the nuclei"
   ]
  },
  {
   "cell_type": "markdown",
   "id": "22f9eb6a",
   "metadata": {},
   "source": [
    "### Canny Testing\n",
    "Close! But not enough connectivity with the lines from canny\n"
   ]
  },
  {
   "cell_type": "code",
   "execution_count": null,
   "id": "27ca7e27",
   "metadata": {},
   "outputs": [],
   "source": [
    "footprint = sk.morphology.disk(6)\n",
    "top_hat = sk.morphology.black_tophat(adpt_norm)\n",
    "viewer = napari.view_image(top_hat)"
   ]
  },
  {
   "cell_type": "code",
   "execution_count": null,
   "id": "da46b949",
   "metadata": {},
   "outputs": [],
   "source": [
    "edges = sk.feature.canny(gamma_adjust, sigma=2.4)\n",
    "viewer = napari.view_image(adpt_norm)\n",
    "viewer.add_image(edges, name='edges')"
   ]
  },
  {
   "cell_type": "markdown",
   "id": "15800403",
   "metadata": {},
   "source": [
    "## Sobel Testing\n",
    "Not the best approach for TEM images. Not enough contrast in the staining for sobel to find the features of interest"
   ]
  },
  {
   "cell_type": "code",
   "execution_count": null,
   "id": "1b81060f",
   "metadata": {},
   "outputs": [],
   "source": [
    "edges = sk.filters.sobel(adpt_norm)\n",
    "viewer = napari.view_image(adpt_norm)\n",
    "viewer.add_image(edges, name='edges')"
   ]
  },
  {
   "cell_type": "markdown",
   "id": "86f57acf",
   "metadata": {},
   "source": [
    "## Multi-Otsu on histogram equalized images\n",
    "Use second otsu value"
   ]
  },
  {
   "cell_type": "code",
   "execution_count": null,
   "id": "81dc335c",
   "metadata": {},
   "outputs": [],
   "source": [
    "#test image and masks\n",
    "test_mask = filtered_masks[24]\n",
    "test_img = np.asarray(imgs[24],dtype=np.uint16)\n",
    "adpt_norm = sk.exposure.equalize_adapthist(test_img)"
   ]
  },
  {
   "cell_type": "code",
   "execution_count": null,
   "id": "51e6efd5",
   "metadata": {},
   "outputs": [],
   "source": [
    "fig, ax = sk.filters.try_all_threshold(adpt_norm)"
   ]
  },
  {
   "cell_type": "code",
   "execution_count": null,
   "id": "3e476081",
   "metadata": {},
   "outputs": [],
   "source": [
    "#trying yen threshold\n",
    "mask = test_mask == 1\n",
    "gauss = sk.filters.gaussian(adpt_norm, sigma=1)\n",
    "masked_img = mask * gauss\n",
    "yen = sk.filters.threshold_yen(image=gauss)\n",
    "yen_mask = adpt_norm < yen\n",
    "viewer = napari.view_image(adpt_norm)\n",
    "viewer.add_labels(yen_mask)"
   ]
  },
  {
   "cell_type": "code",
   "execution_count": null,
   "id": "26d42682",
   "metadata": {},
   "outputs": [],
   "source": [
    "#trying triangle threshold\n",
    "mask = test_mask == 1\n",
    "gauss = sk.filters.gaussian(adpt_norm, sigma=1)\n",
    "masked_img = mask * gauss\n",
    "triangle = sk.filters.threshold_triangle(image=gauss)\n",
    "triangle_mask = adpt_norm < triangle\n",
    "viewer = napari.view_image(adpt_norm)\n",
    "viewer.add_labels(triangle_mask)"
   ]
  },
  {
   "cell_type": "code",
   "execution_count": null,
   "id": "c5f534aa",
   "metadata": {},
   "outputs": [],
   "source": [
    "mask = test_mask == 1\n",
    "gauss = sk.filters.gaussian(adpt_norm, sigma=1)\n",
    "masked_img = mask * gauss\n",
    "o1,o2,o3 = sk.filters.threshold_multiotsu(image=masked_img, classes=4)\n",
    "# otsu1 = (masked_img < o1)*mask\n",
    "otsu2 = (masked_img < o2)*mask\n",
    "# otsu3 = (masked_img < o3)*mask\n",
    "viewer = napari.view_image(adpt_norm, name='image')\n",
    "#viewer.add_labels(otsu1, name='otsu1')\n",
    "viewer.add_labels(otsu2, name='otsu2')\n",
    "#viewer.add_labels(otsu3, name='otsu3')"
   ]
  },
  {
   "cell_type": "code",
   "execution_count": null,
   "id": "49e97900",
   "metadata": {},
   "outputs": [],
   "source": [
    "labeled_img = sk.morphology.label(otsu2)\n",
    "props = ['label','area']\n",
    "region_props = sk.measure.regionprops_table(labeled_img,properties=props)\n",
    "df = pd.DataFrame.from_dict(region_props)\n",
    "areas = np.asarray(df['area'])"
   ]
  },
  {
   "cell_type": "code",
   "execution_count": null,
   "id": "5485666e",
   "metadata": {},
   "outputs": [],
   "source": [
    "fig, ax = plt.subplots()\n",
    "ax.hist(areas,bins=100,range=[0,2000])\n",
    "ax.set_yscale('log')\n",
    "plt.show()"
   ]
  },
  {
   "cell_type": "code",
   "execution_count": null,
   "id": "dd5afb74",
   "metadata": {},
   "outputs": [],
   "source": [
    "#filter out small objects and fill holes\n",
    "filtered = sk.morphology.remove_small_objects(sk.morphology.remove_small_holes(otsu2,area_threshold=10000),min_size=500)\n",
    "viewer = napari.view_image(adpt_norm, name='img')\n",
    "viewer.add_labels(filtered, name='labels')\n",
    "viewer.add_labels(otsu2, name='otsu')"
   ]
  },
  {
   "cell_type": "code",
   "execution_count": null,
   "id": "b4073b78",
   "metadata": {},
   "outputs": [],
   "source": [
    "viewer.add_labels(band_25,name='band')"
   ]
  },
  {
   "cell_type": "markdown",
   "id": "c647216d",
   "metadata": {},
   "source": [
    "## Adding in measurements of heterochromatin in band and nucleoli in nuclei"
   ]
  },
  {
   "cell_type": "code",
   "execution_count": null,
   "id": "0ed196db",
   "metadata": {},
   "outputs": [],
   "source": [
    "view"
   ]
  }
 ],
 "metadata": {
  "kernelspec": {
   "display_name": "CellPoseCLE-env",
   "language": "python",
   "name": "python3"
  },
  "language_info": {
   "codemirror_mode": {
    "name": "ipython",
    "version": 3
   },
   "file_extension": ".py",
   "mimetype": "text/x-python",
   "name": "python",
   "nbconvert_exporter": "python",
   "pygments_lexer": "ipython3",
   "version": "3.10.16"
  }
 },
 "nbformat": 4,
 "nbformat_minor": 5
}
