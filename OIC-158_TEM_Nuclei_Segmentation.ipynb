{
 "cells": [
  {
   "cell_type": "markdown",
   "id": "82875105",
   "metadata": {},
   "source": [
    "# OIC-158 TEM Nuclei Segmentation"
   ]
  },
  {
   "cell_type": "code",
   "execution_count": 1,
   "id": "1af232a6",
   "metadata": {},
   "outputs": [],
   "source": [
    "import napari\n",
    "import numpy as np\n",
    "import pyclesperanto as cle\n",
    "import skimage as sk\n",
    "from skimage.io import imread, imsave\n",
    "import pandas as pd\n",
    "import os\n",
    "from glob import glob\n",
    "import matplotlib as mpl\n",
    "import matplotlib.pyplot as plt"
   ]
  },
  {
   "cell_type": "markdown",
   "id": "0b7e4a10",
   "metadata": {},
   "source": [
    "## Load in data and filter out masks touching border and small labeled areas created during ground truth annotation"
   ]
  },
  {
   "cell_type": "code",
   "execution_count": 2,
   "id": "98b6a754",
   "metadata": {},
   "outputs": [],
   "source": [
    "img_files = sorted(glob(\"E:/Fondufe-Mittendorf_Lab/TEM_Images/Images/*.tif\"))\n",
    "mask_files = sorted(glob(\"E:/Fondufe-Mittendorf_Lab/TEM_Images/Masks/*.tif\"))\n",
    "imgs = list(map(imread,img_files))\n",
    "imgs = [np.asarray(img,dtype=np.uint16) for img in imgs]\n",
    "masks = list(map(imread,mask_files))\n",
    "masks = [np.asarray(mask,dtype=np.uint16) for mask in masks]"
   ]
  },
  {
   "cell_type": "code",
   "execution_count": 3,
   "id": "db049fc3",
   "metadata": {},
   "outputs": [
    {
     "name": "stderr",
     "output_type": "stream",
     "text": [
      "E:\\Temp\\ipykernel_43700\\1521644856.py:1: UserWarning: Only one label was provided to `remove_small_objects`. Did you mean to use a boolean array?\n",
      "  filtered_masks = [sk.segmentation.clear_border(sk.morphology.remove_small_objects(mask, min_size=50)) for mask in masks]\n"
     ]
    }
   ],
   "source": [
    "filtered_masks = [sk.segmentation.clear_border(sk.morphology.remove_small_objects(mask, min_size=50)) for mask in masks]\n",
    "relabel_masks = [sk.measure.label(mask) for mask in filtered_masks]"
   ]
  },
  {
   "cell_type": "code",
   "execution_count": 31,
   "id": "6734f886",
   "metadata": {},
   "outputs": [],
   "source": [
    "label_stack = np.stack(relabel_masks)\n",
    "images_stack = np.stack(imgs)"
   ]
  },
  {
   "cell_type": "markdown",
   "id": "66dfc7f3",
   "metadata": {},
   "source": [
    "## Filter out masks on edge of image and remove and small label areas created during ground truth annotation (testing cell, can ignore)"
   ]
  },
  {
   "cell_type": "code",
   "execution_count": null,
   "id": "924f9e92",
   "metadata": {},
   "outputs": [],
   "source": [
    "#to get the number of fragments of nuclei, current min size setting will not remove small intended nuclei fragments\n",
    "test_mask = filtered_masks[11]\n",
    "filtered_props = sk.measure.regionprops(test_mask)\n",
    "relabeled = sk.morphology.remove_small_objects(sk.measure.label(test_mask),min_size=50) #add this layer as an \"intensity image\" to get the nuc ID it belongs to, low min size to remove small disconnected pixels from ground truth labels\n",
    "relabel_props = sk.measure.regionprops(relabeled)\n",
    "for i in range(len(relabel_props)):\n",
    "    print('label:', relabel_props[i].label)\n",
    "\n",
    "\n",
    "# viewer = napari.view_image(relabeled)\n",
    "# viewer.add_image(masks[11])"
   ]
  },
  {
   "cell_type": "markdown",
   "id": "8f72051e",
   "metadata": {},
   "source": [
    "## Create 25-pixel diameter band around nuclear membrane"
   ]
  },
  {
   "cell_type": "code",
   "execution_count": null,
   "id": "100a959e",
   "metadata": {},
   "outputs": [],
   "source": [
    "footprint = sk.morphology.disk(25)\n",
    "eroded = [sk.morphology.erosion(mask, footprint) for mask in relabel_masks]\n",
    "bands = [relabel_masks[i] - eroded[i] for i in range(len(relabel_masks))]\n"
   ]
  },
  {
   "cell_type": "code",
   "execution_count": 30,
   "id": "25e2315c",
   "metadata": {},
   "outputs": [],
   "source": [
    "bands_stack = np.stack(bands)"
   ]
  },
  {
   "cell_type": "markdown",
   "id": "17216228",
   "metadata": {},
   "source": [
    "### testing cells for creating band"
   ]
  },
  {
   "cell_type": "code",
   "execution_count": null,
   "id": "939debc8",
   "metadata": {},
   "outputs": [],
   "source": [
    "#erode objects to get a thin outer border (disc size 25 is better option)\n",
    "footprint_50 = sk.morphology.disk(50)\n",
    "eroded = sk.morphology.erosion(test_mask,footprint_50)\n",
    "band_50 = test_mask - eroded\n",
    "# viewer = napari.view_image(relabeled)\n",
    "# viewer.add_labels(eroded)\n",
    "# viewer.add_labels(band_50)"
   ]
  },
  {
   "cell_type": "code",
   "execution_count": null,
   "id": "259305b0",
   "metadata": {},
   "outputs": [],
   "source": [
    "test_mask = filtered_masks[11]\n",
    "footprint_25 = sk.morphology.disk(25)\n",
    "eroded = sk.morphology.erosion(test_mask,footprint_25)\n",
    "band_25 = test_mask - eroded\n",
    "# viewer = napari.view_image(imgs[11])\n",
    "# viewer.add_labels(eroded)\n",
    "# viewer.add_labels(band_25, name='25')"
   ]
  },
  {
   "cell_type": "markdown",
   "id": "f36cdc98",
   "metadata": {},
   "source": [
    "## Thresholding with Yen"
   ]
  },
  {
   "cell_type": "code",
   "execution_count": 44,
   "id": "ffc3f520",
   "metadata": {},
   "outputs": [
    {
     "name": "stderr",
     "output_type": "stream",
     "text": [
      "c:\\ProgramData\\anaconda3\\envs\\CellPoseCLE-env\\lib\\site-packages\\skimage\\filters\\thresholding.py:466: RuntimeWarning: divide by zero encountered in log\n",
      "  crit = np.log(((P1_sq[:-1] * P2_sq[1:]) ** -1) * (P1[:-1] * (1.0 - P1[:-1])) ** 2)\n"
     ]
    }
   ],
   "source": [
    "#footprint = sk.morphology.disk(2)\n",
    "adpt_norm = [sk.exposure.equalize_adapthist(img) for img in imgs]\n",
    "matched_hist = [sk.exposure.match_histograms(img, adpt_norm[3]) for img in adpt_norm]\n",
    "filtered = []\n",
    "for img in matched_hist:\n",
    "    yen = sk.filters.threshold_yen(img)\n",
    "    mask = img < yen\n",
    "    dilate = sk.morphology.dilation(mask)\n",
    "    filtered.append(sk.morphology.remove_small_objects(sk.morphology.remove_small_holes(dilate,area_threshold=100),min_size=20))"
   ]
  },
  {
   "cell_type": "code",
   "execution_count": 43,
   "id": "85816d40",
   "metadata": {},
   "outputs": [],
   "source": [
    "stack = np.stack(filtered)\n",
    "viewer = napari.view_labels(stack)"
   ]
  },
  {
   "cell_type": "markdown",
   "id": "54422ebd",
   "metadata": {},
   "source": [
    "## Get area of band covered by dense signal"
   ]
  },
  {
   "cell_type": "code",
   "execution_count": null,
   "id": "6bc358df",
   "metadata": {},
   "outputs": [],
   "source": [
    "mask_dense_nuclei = [filtered[i] * relabel_masks[i] for i in range(len(filtered))]\n",
    "#mask_dense_nuclei_stack = np.stack(mask_dense_nuclei)\n",
    "dense_band = [mask_dense_nuclei[i] * bands[i] for i in range(len(mask_dense_nuclei))]\n",
    "#dense_band_stack = np.stack(dense_band)\n",
    "\n"
   ]
  },
  {
   "cell_type": "markdown",
   "id": "5307ba68",
   "metadata": {},
   "source": [
    "Merge the image and all masks into arrays"
   ]
  },
  {
   "cell_type": "code",
   "execution_count": 50,
   "id": "56dc48c2",
   "metadata": {},
   "outputs": [],
   "source": [
    "merged_stacks = []\n",
    "for i in range(len(imgs)):\n",
    "    stack = np.stack([imgs[i],relabel_masks[i],bands[i],mask_dense_nuclei[i],dense_band[i]],axis=-1)\n",
    "    merged_stacks.append(stack)"
   ]
  },
  {
   "cell_type": "code",
   "execution_count": 51,
   "id": "41edda68",
   "metadata": {},
   "outputs": [
    {
     "data": {
      "text/plain": [
       "(2672, 4008, 5)"
      ]
     },
     "execution_count": 51,
     "metadata": {},
     "output_type": "execute_result"
    }
   ],
   "source": [
    "merged_stacks[0].shape"
   ]
  },
  {
   "cell_type": "markdown",
   "id": "16d20b7b",
   "metadata": {},
   "source": [
    "## Get measurements"
   ]
  },
  {
   "cell_type": "code",
   "execution_count": 48,
   "id": "4560bdce",
   "metadata": {},
   "outputs": [],
   "source": [
    "props = ['label', 'area', 'eccentricity', 'equivalent_diameter_area','extent','perimeter','solidity','intensity_max',]\n",
    "scale = [0.0064,0.0064]"
   ]
  },
  {
   "cell_type": "code",
   "execution_count": 83,
   "id": "b51c7dc2",
   "metadata": {},
   "outputs": [],
   "source": [
    "def heterochromatin_area(heterochromatin_band, bands, scale):\n",
    "    areas = []\n",
    "    for i in range(1,np.max(bands)):\n",
    "        band = bands == i\n",
    "        mask = band * heterochromatin_band\n",
    "        area = (np.count_nonzero(mask) * scale[0] * scale[1])\n",
    "        areas.append(area)\n",
    "    areas_df = pd.Series(areas, name='heterochromatin area um^2')\n",
    "    return areas, areas_df\n"
   ]
  },
  {
   "cell_type": "code",
   "execution_count": 90,
   "id": "90ee0384",
   "metadata": {},
   "outputs": [
    {
     "data": {
      "text/plain": [
       "[1.2183142400000002, 0.7679180800000001, 3.0156390400000004, 1.14778112]"
      ]
     },
     "execution_count": 90,
     "metadata": {},
     "output_type": "execute_result"
    }
   ],
   "source": [
    "areas, areas_df = heterochromatin_area(heterochromatin_band=dense_band[24],bands=bands[24],scale=scale)\n",
    "areas"
   ]
  },
  {
   "cell_type": "code",
   "execution_count": 92,
   "id": "3d841aec",
   "metadata": {},
   "outputs": [],
   "source": [
    "def get_measurements(img_stack,props,scale,heterochromatin_areas, heterochromatin_area_df):\n",
    "    nuc_measurements_table = sk.measure.regionprops_table(img_stack[:,:,1],img_stack,props,spacing=scale)\n",
    "    nuc_regionprops = sk.measure.regionprops(img_stack[:,:,1],spacing=scale)\n",
    "    band_25_measurements= sk.measure.regionprops_table(img_stack[:,:,2],img_stack[:,:,1],props,spacing=scale)\n",
    "    circularity = []\n",
    "    for i in range(len(nuc_regionprops)):\n",
    "        nuc_area = nuc_regionprops[i].area\n",
    "        nuc_perimeter = nuc_regionprops[i].perimeter\n",
    "        circularity.append(4*np.pi*nuc_area/nuc_perimeter**2)\n",
    "    circularity = pd.Series(circularity,name='circularity')\n",
    "    percent_band_covered = []\n",
    "    band_25_regionprops= sk.measure.regionprops(img_stack[:,:,2],spacing=scale)\n",
    "    for i in range(len(heterochromatin_areas)):\n",
    "        band_area = band_25_regionprops[i].area\n",
    "        percent_covered = heterochromatin_areas[i]/band_area\n",
    "        percent_band_covered.append(percent_covered)\n",
    "    percent_band_covered = pd.Series(percent_band_covered, name='norm area heterochromatin band')\n",
    "    df = pd.DataFrame.from_dict(nuc_measurements_table)\n",
    "    df = pd.concat([df,circularity,heterochromatin_area_df,percent_band_covered,pd.DataFrame.from_dict(band_25_measurements)], axis=1)\n",
    "    return df\n"
   ]
  },
  {
   "cell_type": "code",
   "execution_count": 93,
   "id": "0f711c29",
   "metadata": {},
   "outputs": [],
   "source": [
    "test_measurements = get_measurements(merged_stacks[24],props,scale,heterochromatin_areas=areas,heterochromatin_area_df=areas_df)"
   ]
  },
  {
   "cell_type": "code",
   "execution_count": 94,
   "id": "a7171fbf",
   "metadata": {},
   "outputs": [
    {
     "data": {
      "text/html": [
       "<div>\n",
       "<style scoped>\n",
       "    .dataframe tbody tr th:only-of-type {\n",
       "        vertical-align: middle;\n",
       "    }\n",
       "\n",
       "    .dataframe tbody tr th {\n",
       "        vertical-align: top;\n",
       "    }\n",
       "\n",
       "    .dataframe thead th {\n",
       "        text-align: right;\n",
       "    }\n",
       "</style>\n",
       "<table border=\"1\" class=\"dataframe\">\n",
       "  <thead>\n",
       "    <tr style=\"text-align: right;\">\n",
       "      <th></th>\n",
       "      <th>label</th>\n",
       "      <th>area</th>\n",
       "      <th>eccentricity</th>\n",
       "      <th>equivalent_diameter_area</th>\n",
       "      <th>extent</th>\n",
       "      <th>perimeter</th>\n",
       "      <th>solidity</th>\n",
       "      <th>intensity_max-0</th>\n",
       "      <th>intensity_max-1</th>\n",
       "      <th>intensity_max-2</th>\n",
       "      <th>...</th>\n",
       "      <th>heterochromatin area um^2</th>\n",
       "      <th>norm area heterochromatin band</th>\n",
       "      <th>label</th>\n",
       "      <th>area</th>\n",
       "      <th>eccentricity</th>\n",
       "      <th>equivalent_diameter_area</th>\n",
       "      <th>extent</th>\n",
       "      <th>perimeter</th>\n",
       "      <th>solidity</th>\n",
       "      <th>intensity_max</th>\n",
       "    </tr>\n",
       "  </thead>\n",
       "  <tbody>\n",
       "    <tr>\n",
       "      <th>0</th>\n",
       "      <td>1</td>\n",
       "      <td>9.531720</td>\n",
       "      <td>0.728778</td>\n",
       "      <td>3.483700</td>\n",
       "      <td>0.542944</td>\n",
       "      <td>16.719343</td>\n",
       "      <td>0.801982</td>\n",
       "      <td>16603.0</td>\n",
       "      <td>1.0</td>\n",
       "      <td>1.0</td>\n",
       "      <td>...</td>\n",
       "      <td>1.218314</td>\n",
       "      <td>0.496254</td>\n",
       "      <td>1</td>\n",
       "      <td>2.455020</td>\n",
       "      <td>0.781724</td>\n",
       "      <td>1.768001</td>\n",
       "      <td>0.139842</td>\n",
       "      <td>32.310200</td>\n",
       "      <td>0.206561</td>\n",
       "      <td>1.0</td>\n",
       "    </tr>\n",
       "    <tr>\n",
       "      <th>1</th>\n",
       "      <td>2</td>\n",
       "      <td>8.933868</td>\n",
       "      <td>0.563816</td>\n",
       "      <td>3.372677</td>\n",
       "      <td>0.642898</td>\n",
       "      <td>12.540571</td>\n",
       "      <td>0.923839</td>\n",
       "      <td>15908.0</td>\n",
       "      <td>2.0</td>\n",
       "      <td>2.0</td>\n",
       "      <td>...</td>\n",
       "      <td>0.767918</td>\n",
       "      <td>0.423799</td>\n",
       "      <td>2</td>\n",
       "      <td>1.811988</td>\n",
       "      <td>0.503086</td>\n",
       "      <td>1.518913</td>\n",
       "      <td>0.130394</td>\n",
       "      <td>24.002303</td>\n",
       "      <td>0.187375</td>\n",
       "      <td>2.0</td>\n",
       "    </tr>\n",
       "    <tr>\n",
       "      <th>2</th>\n",
       "      <td>3</td>\n",
       "      <td>48.830546</td>\n",
       "      <td>0.612653</td>\n",
       "      <td>7.884985</td>\n",
       "      <td>0.696099</td>\n",
       "      <td>38.268035</td>\n",
       "      <td>0.958699</td>\n",
       "      <td>17152.0</td>\n",
       "      <td>3.0</td>\n",
       "      <td>3.0</td>\n",
       "      <td>...</td>\n",
       "      <td>3.015639</td>\n",
       "      <td>0.528794</td>\n",
       "      <td>3</td>\n",
       "      <td>5.702861</td>\n",
       "      <td>0.603814</td>\n",
       "      <td>2.694644</td>\n",
       "      <td>0.081297</td>\n",
       "      <td>75.198015</td>\n",
       "      <td>0.111965</td>\n",
       "      <td>3.0</td>\n",
       "    </tr>\n",
       "    <tr>\n",
       "      <th>3</th>\n",
       "      <td>4</td>\n",
       "      <td>9.923912</td>\n",
       "      <td>0.733061</td>\n",
       "      <td>3.554647</td>\n",
       "      <td>0.541110</td>\n",
       "      <td>17.780411</td>\n",
       "      <td>0.811772</td>\n",
       "      <td>16100.0</td>\n",
       "      <td>4.0</td>\n",
       "      <td>4.0</td>\n",
       "      <td>...</td>\n",
       "      <td>1.147781</td>\n",
       "      <td>0.437721</td>\n",
       "      <td>4</td>\n",
       "      <td>2.622177</td>\n",
       "      <td>0.710540</td>\n",
       "      <td>1.827200</td>\n",
       "      <td>0.142976</td>\n",
       "      <td>34.427943</td>\n",
       "      <td>0.214493</td>\n",
       "      <td>4.0</td>\n",
       "    </tr>\n",
       "    <tr>\n",
       "      <th>4</th>\n",
       "      <td>5</td>\n",
       "      <td>1.050870</td>\n",
       "      <td>0.894760</td>\n",
       "      <td>1.156723</td>\n",
       "      <td>0.560370</td>\n",
       "      <td>4.492404</td>\n",
       "      <td>0.948957</td>\n",
       "      <td>15973.0</td>\n",
       "      <td>5.0</td>\n",
       "      <td>5.0</td>\n",
       "      <td>...</td>\n",
       "      <td>NaN</td>\n",
       "      <td>NaN</td>\n",
       "      <td>5</td>\n",
       "      <td>0.604733</td>\n",
       "      <td>0.878587</td>\n",
       "      <td>0.877480</td>\n",
       "      <td>0.322471</td>\n",
       "      <td>7.868213</td>\n",
       "      <td>0.546087</td>\n",
       "      <td>5.0</td>\n",
       "    </tr>\n",
       "  </tbody>\n",
       "</table>\n",
       "<p>5 rows × 23 columns</p>\n",
       "</div>"
      ],
      "text/plain": [
       "   label       area  eccentricity  equivalent_diameter_area    extent  \\\n",
       "0      1   9.531720      0.728778                  3.483700  0.542944   \n",
       "1      2   8.933868      0.563816                  3.372677  0.642898   \n",
       "2      3  48.830546      0.612653                  7.884985  0.696099   \n",
       "3      4   9.923912      0.733061                  3.554647  0.541110   \n",
       "4      5   1.050870      0.894760                  1.156723  0.560370   \n",
       "\n",
       "   perimeter  solidity  intensity_max-0  intensity_max-1  intensity_max-2  \\\n",
       "0  16.719343  0.801982          16603.0              1.0              1.0   \n",
       "1  12.540571  0.923839          15908.0              2.0              2.0   \n",
       "2  38.268035  0.958699          17152.0              3.0              3.0   \n",
       "3  17.780411  0.811772          16100.0              4.0              4.0   \n",
       "4   4.492404  0.948957          15973.0              5.0              5.0   \n",
       "\n",
       "   ...  heterochromatin area um^2  norm area heterochromatin band  label  \\\n",
       "0  ...                   1.218314                        0.496254      1   \n",
       "1  ...                   0.767918                        0.423799      2   \n",
       "2  ...                   3.015639                        0.528794      3   \n",
       "3  ...                   1.147781                        0.437721      4   \n",
       "4  ...                        NaN                             NaN      5   \n",
       "\n",
       "       area  eccentricity  equivalent_diameter_area    extent  perimeter  \\\n",
       "0  2.455020      0.781724                  1.768001  0.139842  32.310200   \n",
       "1  1.811988      0.503086                  1.518913  0.130394  24.002303   \n",
       "2  5.702861      0.603814                  2.694644  0.081297  75.198015   \n",
       "3  2.622177      0.710540                  1.827200  0.142976  34.427943   \n",
       "4  0.604733      0.878587                  0.877480  0.322471   7.868213   \n",
       "\n",
       "   solidity  intensity_max  \n",
       "0  0.206561            1.0  \n",
       "1  0.187375            2.0  \n",
       "2  0.111965            3.0  \n",
       "3  0.214493            4.0  \n",
       "4  0.546087            5.0  \n",
       "\n",
       "[5 rows x 23 columns]"
      ]
     },
     "execution_count": 94,
     "metadata": {},
     "output_type": "execute_result"
    }
   ],
   "source": [
    "test_measurements"
   ]
  },
  {
   "cell_type": "code",
   "execution_count": 33,
   "id": "3c57891b",
   "metadata": {},
   "outputs": [
    {
     "data": {
      "text/plain": [
       "<Labels layer 'heterochromatin' at 0x1d0b08e2860>"
      ]
     },
     "execution_count": 33,
     "metadata": {},
     "output_type": "execute_result"
    }
   ],
   "source": [
    "viewer = napari.view_image(images_stack, name='img')\n",
    "viewer.add_labels(label_stack, name='nuclei mask')\n",
    "viewer.add_labels(bands_stack,name='25px band')\n",
    "viewer.add_labels(mask_dense_nuclei_stack,name='dense areas in nuc')\n",
    "viewer.add_labels(dense_band_stack, name='heterochromatin')\n"
   ]
  },
  {
   "cell_type": "markdown",
   "id": "5be7f295",
   "metadata": {},
   "source": [
    "### Multi-Otsu testing\n",
    "4 classes with preprocessing of gaussian sigma=2; use with ground truth masks\n",
    "\n",
    "Use to measure the dense heterochromatin along the membrane and the nucleoli within the nuclei"
   ]
  },
  {
   "cell_type": "code",
   "execution_count": null,
   "id": "79beea67",
   "metadata": {},
   "outputs": [],
   "source": [
    "#find threshold or approach that works well for segmenting the dense areas\n",
    "#multi-otsu\n",
    "mask = test_mask == 1\n",
    "gauss = sk.filters.gaussian(imgs[11], sigma=2)\n",
    "masked_img = mask * gauss\n",
    "o1,o2,o3 = sk.filters.threshold_multiotsu(image=masked_img, classes=4)\n",
    "\n"
   ]
  },
  {
   "cell_type": "code",
   "execution_count": null,
   "id": "810020a2",
   "metadata": {},
   "outputs": [],
   "source": [
    "otsu1 = (masked_img < o1)*mask\n",
    "otsu2 = (masked_img < o2)*mask\n",
    "otsu3 = (masked_img < o3)*mask"
   ]
  },
  {
   "cell_type": "code",
   "execution_count": null,
   "id": "26ebbf36",
   "metadata": {},
   "outputs": [],
   "source": [
    "viewer = napari.view_image(imgs[11], name='image')\n",
    "viewer.add_labels(otsu1, name='otsu1')\n",
    "viewer.add_labels(otsu2, name='otsu2')\n",
    "viewer.add_labels(otsu3, name='otsu3')"
   ]
  },
  {
   "cell_type": "code",
   "execution_count": null,
   "id": "e07ea6c7",
   "metadata": {},
   "outputs": [],
   "source": [
    "test_img = imgs[24]\n",
    "test_img = np.asarray(test_img,dtype=np.uint16)"
   ]
  },
  {
   "cell_type": "markdown",
   "id": "0699bc23",
   "metadata": {},
   "source": [
    "## Test histogram norm with histogram matching"
   ]
  },
  {
   "cell_type": "code",
   "execution_count": null,
   "id": "122f6b99",
   "metadata": {},
   "outputs": [],
   "source": [
    "# Correct uneven illumination\n",
    "\n",
    "adpt_norm = sk.exposure.equalize_adapthist(test_img)\n",
    "norm = sk.exposure.equalize_hist(test_img)\n",
    "# viewer = napari.view_image(test_img)\n",
    "# viewer.add_image(adpt_norm, name='adapt norm')\n",
    "# viewer.add_image(norm, name='norm')"
   ]
  },
  {
   "cell_type": "code",
   "execution_count": null,
   "id": "dc442cdb",
   "metadata": {},
   "outputs": [],
   "source": [
    "# add in gamma and contrast adjustment to enhance dense regions; didn't make a large difference for thresholding\n",
    "gamma_adjust = sk.exposure.adjust_gamma(adpt_norm, gamma=1.5)\n",
    "viewer = napari.view_image(adpt_norm)\n",
    "viewer.add_image(gamma_adjust, name='gamma')"
   ]
  },
  {
   "cell_type": "code",
   "execution_count": null,
   "id": "82f2e303",
   "metadata": {},
   "outputs": [],
   "source": [
    "# some images fail on ostu multiclass, testing if matching histogram to images that have successful ostu works\n"
   ]
  },
  {
   "cell_type": "markdown",
   "id": "13f42505",
   "metadata": {},
   "source": [
    "## Testing Sobel and Canny for segmenting the nuclei"
   ]
  },
  {
   "cell_type": "markdown",
   "id": "22f9eb6a",
   "metadata": {},
   "source": [
    "### Canny Testing\n",
    "Close! But not enough connectivity with the lines from canny\n"
   ]
  },
  {
   "cell_type": "code",
   "execution_count": null,
   "id": "27ca7e27",
   "metadata": {},
   "outputs": [],
   "source": [
    "footprint = sk.morphology.disk(6)\n",
    "top_hat = sk.morphology.black_tophat(adpt_norm)\n",
    "viewer = napari.view_image(top_hat)"
   ]
  },
  {
   "cell_type": "code",
   "execution_count": null,
   "id": "da46b949",
   "metadata": {},
   "outputs": [],
   "source": [
    "edges = sk.feature.canny(gamma_adjust, sigma=2.4)\n",
    "viewer = napari.view_image(adpt_norm)\n",
    "viewer.add_image(edges, name='edges')"
   ]
  },
  {
   "cell_type": "markdown",
   "id": "15800403",
   "metadata": {},
   "source": [
    "## Sobel Testing\n",
    "Not the best approach for TEM images. Not enough contrast in the staining for sobel to find the features of interest"
   ]
  },
  {
   "cell_type": "code",
   "execution_count": null,
   "id": "1b81060f",
   "metadata": {},
   "outputs": [],
   "source": [
    "edges = sk.filters.sobel(adpt_norm)\n",
    "viewer = napari.view_image(adpt_norm)\n",
    "viewer.add_image(edges, name='edges')"
   ]
  },
  {
   "cell_type": "markdown",
   "id": "86f57acf",
   "metadata": {},
   "source": [
    "## Multi-Otsu on histogram equalized images\n",
    "Use second otsu value"
   ]
  },
  {
   "cell_type": "code",
   "execution_count": null,
   "id": "81dc335c",
   "metadata": {},
   "outputs": [],
   "source": [
    "#test image and masks\n",
    "test_mask = filtered_masks[24]\n",
    "test_img = np.asarray(imgs[24],dtype=np.uint16)\n",
    "adpt_norm = sk.exposure.equalize_adapthist(test_img)"
   ]
  },
  {
   "cell_type": "code",
   "execution_count": null,
   "id": "51e6efd5",
   "metadata": {},
   "outputs": [],
   "source": [
    "fig, ax = sk.filters.try_all_threshold(adpt_norm)"
   ]
  },
  {
   "cell_type": "code",
   "execution_count": null,
   "id": "3e476081",
   "metadata": {},
   "outputs": [],
   "source": [
    "#trying yen threshold\n",
    "mask = test_mask == 1\n",
    "gauss = sk.filters.gaussian(adpt_norm, sigma=1)\n",
    "masked_img = mask * gauss\n",
    "yen = sk.filters.threshold_yen(image=gauss)\n",
    "yen_mask = adpt_norm < yen\n",
    "viewer = napari.view_image(adpt_norm)\n",
    "viewer.add_labels(yen_mask)"
   ]
  },
  {
   "cell_type": "code",
   "execution_count": null,
   "id": "26d42682",
   "metadata": {},
   "outputs": [],
   "source": [
    "#trying triangle threshold\n",
    "mask = test_mask == 1\n",
    "gauss = sk.filters.gaussian(adpt_norm, sigma=1)\n",
    "masked_img = mask * gauss\n",
    "triangle = sk.filters.threshold_triangle(image=gauss)\n",
    "triangle_mask = adpt_norm < triangle\n",
    "viewer = napari.view_image(adpt_norm)\n",
    "viewer.add_labels(triangle_mask)"
   ]
  },
  {
   "cell_type": "code",
   "execution_count": null,
   "id": "c5f534aa",
   "metadata": {},
   "outputs": [],
   "source": [
    "mask = test_mask == 1\n",
    "gauss = sk.filters.gaussian(adpt_norm, sigma=1)\n",
    "masked_img = mask * gauss\n",
    "o1,o2,o3 = sk.filters.threshold_multiotsu(image=masked_img, classes=4)\n",
    "# otsu1 = (masked_img < o1)*mask\n",
    "otsu2 = (masked_img < o2)*mask\n",
    "# otsu3 = (masked_img < o3)*mask\n",
    "viewer = napari.view_image(adpt_norm, name='image')\n",
    "#viewer.add_labels(otsu1, name='otsu1')\n",
    "viewer.add_labels(otsu2, name='otsu2')\n",
    "#viewer.add_labels(otsu3, name='otsu3')"
   ]
  },
  {
   "cell_type": "code",
   "execution_count": null,
   "id": "49e97900",
   "metadata": {},
   "outputs": [],
   "source": [
    "labeled_img = sk.morphology.label(otsu2)\n",
    "props = ['label','area']\n",
    "region_props = sk.measure.regionprops_table(labeled_img,properties=props)\n",
    "df = pd.DataFrame.from_dict(region_props)\n",
    "areas = np.asarray(df['area'])"
   ]
  },
  {
   "cell_type": "code",
   "execution_count": null,
   "id": "5485666e",
   "metadata": {},
   "outputs": [],
   "source": [
    "fig, ax = plt.subplots()\n",
    "ax.hist(areas,bins=100,range=[0,2000])\n",
    "ax.set_yscale('log')\n",
    "plt.show()"
   ]
  },
  {
   "cell_type": "code",
   "execution_count": null,
   "id": "dd5afb74",
   "metadata": {},
   "outputs": [],
   "source": [
    "#filter out small objects and fill holes\n",
    "filtered = sk.morphology.remove_small_objects(sk.morphology.remove_small_holes(otsu2,area_threshold=10000),min_size=500)\n",
    "viewer = napari.view_image(adpt_norm, name='img')\n",
    "viewer.add_labels(filtered, name='labels')\n",
    "viewer.add_labels(otsu2, name='otsu')"
   ]
  },
  {
   "cell_type": "code",
   "execution_count": null,
   "id": "b4073b78",
   "metadata": {},
   "outputs": [],
   "source": [
    "viewer.add_labels(band_25,name='band')"
   ]
  },
  {
   "cell_type": "markdown",
   "id": "c647216d",
   "metadata": {},
   "source": [
    "## Adding in measurements of heterochromatin in band and nucleoli in nuclei"
   ]
  },
  {
   "cell_type": "code",
   "execution_count": null,
   "id": "0ed196db",
   "metadata": {},
   "outputs": [],
   "source": [
    "view"
   ]
  }
 ],
 "metadata": {
  "kernelspec": {
   "display_name": "CellPoseCLE-env",
   "language": "python",
   "name": "python3"
  },
  "language_info": {
   "codemirror_mode": {
    "name": "ipython",
    "version": 3
   },
   "file_extension": ".py",
   "mimetype": "text/x-python",
   "name": "python",
   "nbconvert_exporter": "python",
   "pygments_lexer": "ipython3",
   "version": "3.10.16"
  }
 },
 "nbformat": 4,
 "nbformat_minor": 5
}
