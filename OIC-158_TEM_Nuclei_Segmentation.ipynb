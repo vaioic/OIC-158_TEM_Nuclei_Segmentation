{
 "cells": [
  {
   "cell_type": "markdown",
   "id": "82875105",
   "metadata": {},
   "source": [
    "# OIC-158 TEM Nuclei Segmentation\n",
    "Packages to import"
   ]
  },
  {
   "cell_type": "code",
   "execution_count": 47,
   "id": "1af232a6",
   "metadata": {},
   "outputs": [],
   "source": [
    "import napari\n",
    "import numpy as np\n",
    "import pyclesperanto as cle\n",
    "import skimage as sk\n",
    "from skimage.io import imread, imsave\n",
    "import pandas as pd\n",
    "import os\n",
    "from glob import glob\n",
    "import matplotlib as mpl\n",
    "import matplotlib.pyplot as plt"
   ]
  },
  {
   "cell_type": "markdown",
   "id": "87add585",
   "metadata": {},
   "source": [
    "All functions for pipeline"
   ]
  },
  {
   "cell_type": "code",
   "execution_count": 48,
   "id": "892076fe",
   "metadata": {},
   "outputs": [],
   "source": [
    "#Create a 25-pixel wide band along perimeter of nucleus\n",
    "def band_25_pixels(masks,footprint):\n",
    "    eroded = [sk.morphology.erosion(mask, footprint=footprint) for mask in masks]\n",
    "    bands = [masks[i] - eroded[i] for i in range(len(masks))]\n",
    "    return bands\n",
    "\n",
    "#Threshold the dense regions within whole image\n",
    "def norm_and_threshold(imgs,max_hole=100,min_object=20,match_img=3):\n",
    "    adpt_norm = [sk.exposure.equalize_adapthist(img) for img in imgs]\n",
    "    matched_hist = [sk.exposure.match_histograms(img, adpt_norm[match_img]) for img in adpt_norm]\n",
    "    filtered = []\n",
    "    for img in matched_hist:\n",
    "        yen = sk.filters.threshold_yen(img)\n",
    "        mask = img < yen\n",
    "        dilate = sk.morphology.dilation(mask)\n",
    "        filtered.append(sk.morphology.remove_small_objects(sk.morphology.remove_small_holes(dilate,area_threshold=max_hole),min_size=min_object))\n",
    "    return filtered\n",
    "\n",
    "#Get dense roi masks within the nuclei and 25-pixel band\n",
    "def dense_rois_in_nuclei_and_band(dense_roi_masks, band_25_pixels, relabel_nuc_masks):\n",
    "    dense_roi_in_nuclei = [dense_roi_masks[i] * relabel_nuc_masks[i] for i in range(len(relabel_nuc_masks))]\n",
    "    dense_roi_in_band = [dense_roi_in_nuclei[i] * band_25_pixels[i] for i in range(len(band_25_pixels))]\n",
    "    return dense_roi_in_nuclei, dense_roi_in_band\n",
    "\n",
    "#merge masks and image into array for measurements\n",
    "def merge_masks_image(imgs,original_nuc_masks,relabel_nuclei_masks,band_25_pixels,dense_roi_in_nuclei,dense_roi_in_band):\n",
    "    merged_stacks = []\n",
    "    for i in range(len(imgs)):\n",
    "        stack = np.stack([imgs[i],original_nuc_masks[i],relabel_nuclei_masks[i],band_25_pixels[i],dense_roi_in_nuclei[i],dense_roi_in_band[i]],axis=-1)\n",
    "        merged_stacks.append(stack)\n",
    "    return merged_stacks\n",
    "\n",
    "#Get heterochromatin and band areas as lists\n",
    "def heterochromatin_and_band_areas(dense_roi_in_band, band_25_pixels, scale):\n",
    "    all_heterochromatin_areas = []\n",
    "    all_band_areas = []\n",
    "    all_norm_areas = []\n",
    "    for i in range(len(band_25_pixels)):\n",
    "        i_heterochromatin_areas = []\n",
    "        i_band_areas = []\n",
    "        i_norm_areas = []\n",
    "        band_props = sk.measure.regionprops(band_25_pixels[i],spacing=scale)\n",
    "        heterochromatin_props = sk.measure.regionprops(dense_roi_in_band[i],spacing=scale)\n",
    "        for j in range(len(band_props)):\n",
    "            band_area = band_props[j].area\n",
    "            heterochromatin_area = heterochromatin_props[j].area\n",
    "            norm_area = heterochromatin_area/band_area\n",
    "            i_heterochromatin_areas.append(heterochromatin_area)\n",
    "            i_band_areas.append(band_area)\n",
    "            i_norm_areas.append(norm_area)\n",
    "        all_heterochromatin_areas.append(i_heterochromatin_areas)\n",
    "        all_band_areas.append(i_band_areas)\n",
    "        all_norm_areas.append(i_norm_areas)\n",
    "    return all_heterochromatin_areas, all_band_areas, all_norm_areas\n",
    "\n",
    "#Get measurements for all compartments and merge dataframes together (run in loop for all images)\n",
    "def get_measurements(merged_stacks,props,scale,all_heterochromatin_areas, all_band_areas, all_norm_areas):\n",
    "    heterochromatin_areas_df = pd.Series(all_heterochromatin_areas,name='heterochromatin_area_in_band_um^2')\n",
    "    band_areas_df = pd.Series(all_band_areas, name='25-pixel_band_area_um^2')\n",
    "    norm_area_df = pd.Series(all_norm_areas, name='norm_area_heterochromatin_in_band')\n",
    "    nuc_measurements_table = sk.measure.regionprops_table(merged_stacks[:,:,2],merged_stacks,props,spacing=scale)\n",
    "    nuc_regionprops = sk.measure.regionprops(merged_stacks[:,:,2],spacing=scale)\n",
    "    circularity = []\n",
    "    for i in range(len(nuc_regionprops)):\n",
    "        nuc_area = nuc_regionprops[i].area\n",
    "        nuc_perimeter = nuc_regionprops[i].perimeter\n",
    "        circularity.append(4*np.pi*nuc_area/nuc_perimeter**2)\n",
    "    circularity = pd.Series(circularity,name='nuc_circularity')\n",
    "    nuc_df = pd.DataFrame.from_dict(nuc_measurements_table)\n",
    "    nuc_df.rename(columns={'label':'object_ID','area':'Nuc_area_um^2','intensity_max-0':'Image_intensity_max', 'intensity_max-1':'Cell_ID',\n",
    "                           'intensity_max-2':'Nuc_region_ID','intensity_max-3':'Band_ID','intensity_max-4':'Dense_nuc_regions_ID',\n",
    "                           'intensity_max-5':'Heterochromatin_band_ID','equivalent_diameter_area':'equivalent_diameter_area_um^2',\n",
    "                           'perimeter':'perimeter_um'},inplace=True)\n",
    "    df = pd.concat([nuc_df,circularity,heterochromatin_areas_df,band_areas_df,norm_area_df], axis=1)\n",
    "    return df\n",
    "\n",
    "#save images as tiffs and dataframes as csv (run in loop for all images along with get measurements function)\n",
    "def save_df_and_images(df,merged_stacks,save_loc, img_files):\n",
    "    image_path = os.path.join(save_loc,'merged_imgs')\n",
    "    df_path = os.path.join(save_loc,'measurements')\n",
    "    img_name = os.path.basename(img_files)\n",
    "    imsave(os.path.join(image_path,'merged_stack_'+img_name[:-4]+'.tif'),merged_stacks,check_contrast=False)\n",
    "    df.to_csv(os.path.join(df_path,'measurements_'+img_name[:-4]+'.csv'))\n"
   ]
  },
  {
   "cell_type": "markdown",
   "id": "0b7e4a10",
   "metadata": {},
   "source": [
    "Load in data and filter out masks touching border and small labeled areas created during ground truth annotation"
   ]
  },
  {
   "cell_type": "code",
   "execution_count": 49,
   "id": "98b6a754",
   "metadata": {},
   "outputs": [
    {
     "name": "stderr",
     "output_type": "stream",
     "text": [
      "E:\\Temp\\ipykernel_29820\\2255796120.py:9: UserWarning: Only one label was provided to `remove_small_objects`. Did you mean to use a boolean array?\n",
      "  remove_small_objects = [sk.morphology.remove_small_objects(mask, 50) for mask in relabel_nuclei_masks]\n"
     ]
    }
   ],
   "source": [
    "img_files = sorted(glob(\"E:/Fondufe-Mittendorf_Lab/TEM_Images/Images/*.tif\"))\n",
    "mask_files = sorted(glob(\"E:/Fondufe-Mittendorf_Lab/TEM_Images/Masks/*.tif\"))\n",
    "imgs = list(map(imread,img_files))\n",
    "imgs = [np.asarray(img,dtype=np.uint16) for img in imgs] #make sure all imgs are np compatible arrays\n",
    "nuclei_masks = list(map(imread,mask_files))\n",
    "nuclei_masks = [np.asarray(mask,dtype=np.uint16) for mask in nuclei_masks] #make sure all label images are compatible arrays\n",
    "filtered_nuclei_masks = [sk.segmentation.clear_border(mask) for mask in nuclei_masks]\n",
    "relabel_nuclei_masks = [sk.measure.label(mask) for mask in filtered_nuclei_masks]\n",
    "remove_small_objects = [sk.morphology.remove_small_objects(mask, 50) for mask in relabel_nuclei_masks]"
   ]
  },
  {
   "cell_type": "code",
   "execution_count": null,
   "id": "25e2315c",
   "metadata": {},
   "outputs": [
    {
     "ename": "KeyboardInterrupt",
     "evalue": "",
     "output_type": "error",
     "traceback": [
      "\u001b[1;31m---------------------------------------------------------------------------\u001b[0m",
      "\u001b[1;31mKeyboardInterrupt\u001b[0m                         Traceback (most recent call last)",
      "Cell \u001b[1;32mIn[50], line 2\u001b[0m\n\u001b[0;32m      1\u001b[0m footprint \u001b[38;5;241m=\u001b[39m sk\u001b[38;5;241m.\u001b[39mmorphology\u001b[38;5;241m.\u001b[39mdisk(\u001b[38;5;241m25\u001b[39m)\n\u001b[1;32m----> 2\u001b[0m bands_25 \u001b[38;5;241m=\u001b[39m \u001b[43mband_25_pixels\u001b[49m\u001b[43m(\u001b[49m\u001b[43mmasks\u001b[49m\u001b[38;5;241;43m=\u001b[39;49m\u001b[43mremove_small_objects\u001b[49m\u001b[43m,\u001b[49m\u001b[43mfootprint\u001b[49m\u001b[38;5;241;43m=\u001b[39;49m\u001b[43mfootprint\u001b[49m\u001b[43m)\u001b[49m\n\u001b[0;32m      3\u001b[0m dense_roi_masks \u001b[38;5;241m=\u001b[39m norm_and_threshold(imgs)\n\u001b[0;32m      4\u001b[0m dense_roi_in_nuclei, dense_roi_in_band \u001b[38;5;241m=\u001b[39m dense_rois_in_nuclei_and_band(dense_roi_masks\u001b[38;5;241m=\u001b[39mdense_roi_masks,band_25_pixels\u001b[38;5;241m=\u001b[39mbands_25,relabel_nuc_masks\u001b[38;5;241m=\u001b[39mremove_small_objects)\n",
      "Cell \u001b[1;32mIn[48], line 3\u001b[0m, in \u001b[0;36mband_25_pixels\u001b[1;34m(masks, footprint)\u001b[0m\n\u001b[0;32m      2\u001b[0m \u001b[38;5;28;01mdef\u001b[39;00m\u001b[38;5;250m \u001b[39m\u001b[38;5;21mband_25_pixels\u001b[39m(masks,footprint):\n\u001b[1;32m----> 3\u001b[0m     eroded \u001b[38;5;241m=\u001b[39m [sk\u001b[38;5;241m.\u001b[39mmorphology\u001b[38;5;241m.\u001b[39merosion(mask, footprint\u001b[38;5;241m=\u001b[39mfootprint) \u001b[38;5;28;01mfor\u001b[39;00m mask \u001b[38;5;129;01min\u001b[39;00m masks]\n\u001b[0;32m      4\u001b[0m     bands \u001b[38;5;241m=\u001b[39m [masks[i] \u001b[38;5;241m-\u001b[39m eroded[i] \u001b[38;5;28;01mfor\u001b[39;00m i \u001b[38;5;129;01min\u001b[39;00m \u001b[38;5;28mrange\u001b[39m(\u001b[38;5;28mlen\u001b[39m(masks))]\n\u001b[0;32m      5\u001b[0m     \u001b[38;5;28;01mreturn\u001b[39;00m bands\n",
      "Cell \u001b[1;32mIn[48], line 3\u001b[0m, in \u001b[0;36m<listcomp>\u001b[1;34m(.0)\u001b[0m\n\u001b[0;32m      2\u001b[0m \u001b[38;5;28;01mdef\u001b[39;00m\u001b[38;5;250m \u001b[39m\u001b[38;5;21mband_25_pixels\u001b[39m(masks,footprint):\n\u001b[1;32m----> 3\u001b[0m     eroded \u001b[38;5;241m=\u001b[39m [\u001b[43msk\u001b[49m\u001b[38;5;241;43m.\u001b[39;49m\u001b[43mmorphology\u001b[49m\u001b[38;5;241;43m.\u001b[39;49m\u001b[43merosion\u001b[49m\u001b[43m(\u001b[49m\u001b[43mmask\u001b[49m\u001b[43m,\u001b[49m\u001b[43m \u001b[49m\u001b[43mfootprint\u001b[49m\u001b[38;5;241;43m=\u001b[39;49m\u001b[43mfootprint\u001b[49m\u001b[43m)\u001b[49m \u001b[38;5;28;01mfor\u001b[39;00m mask \u001b[38;5;129;01min\u001b[39;00m masks]\n\u001b[0;32m      4\u001b[0m     bands \u001b[38;5;241m=\u001b[39m [masks[i] \u001b[38;5;241m-\u001b[39m eroded[i] \u001b[38;5;28;01mfor\u001b[39;00m i \u001b[38;5;129;01min\u001b[39;00m \u001b[38;5;28mrange\u001b[39m(\u001b[38;5;28mlen\u001b[39m(masks))]\n\u001b[0;32m      5\u001b[0m     \u001b[38;5;28;01mreturn\u001b[39;00m bands\n",
      "File \u001b[1;32mc:\\ProgramData\\anaconda3\\envs\\CellPoseCLE-env\\lib\\site-packages\\skimage\\morphology\\misc.py:50\u001b[0m, in \u001b[0;36mdefault_footprint.<locals>.func_out\u001b[1;34m(image, footprint, *args, **kwargs)\u001b[0m\n\u001b[0;32m     48\u001b[0m \u001b[38;5;28;01mif\u001b[39;00m footprint \u001b[38;5;129;01mis\u001b[39;00m \u001b[38;5;28;01mNone\u001b[39;00m:\n\u001b[0;32m     49\u001b[0m     footprint \u001b[38;5;241m=\u001b[39m ndi\u001b[38;5;241m.\u001b[39mgenerate_binary_structure(image\u001b[38;5;241m.\u001b[39mndim, \u001b[38;5;241m1\u001b[39m)\n\u001b[1;32m---> 50\u001b[0m \u001b[38;5;28;01mreturn\u001b[39;00m func(image, footprint\u001b[38;5;241m=\u001b[39mfootprint, \u001b[38;5;241m*\u001b[39margs, \u001b[38;5;241m*\u001b[39m\u001b[38;5;241m*\u001b[39mkwargs)\n",
      "File \u001b[1;32mc:\\ProgramData\\anaconda3\\envs\\CellPoseCLE-env\\lib\\site-packages\\skimage\\morphology\\gray.py:234\u001b[0m, in \u001b[0;36merosion\u001b[1;34m(image, footprint, out, shift_x, shift_y, mode, cval)\u001b[0m\n\u001b[0;32m    231\u001b[0m \u001b[38;5;28;01mif\u001b[39;00m \u001b[38;5;129;01mnot\u001b[39;00m _footprint_is_sequence(footprint):\n\u001b[0;32m    232\u001b[0m     footprint \u001b[38;5;241m=\u001b[39m [(footprint, \u001b[38;5;241m1\u001b[39m)]\n\u001b[1;32m--> 234\u001b[0m out \u001b[38;5;241m=\u001b[39m \u001b[43m_iterate_gray_func\u001b[49m\u001b[43m(\u001b[49m\n\u001b[0;32m    235\u001b[0m \u001b[43m    \u001b[49m\u001b[43mgray_func\u001b[49m\u001b[38;5;241;43m=\u001b[39;49m\u001b[43mndi\u001b[49m\u001b[38;5;241;43m.\u001b[39;49m\u001b[43mgrey_erosion\u001b[49m\u001b[43m,\u001b[49m\n\u001b[0;32m    236\u001b[0m \u001b[43m    \u001b[49m\u001b[43mimage\u001b[49m\u001b[38;5;241;43m=\u001b[39;49m\u001b[43mimage\u001b[49m\u001b[43m,\u001b[49m\n\u001b[0;32m    237\u001b[0m \u001b[43m    \u001b[49m\u001b[43mfootprints\u001b[49m\u001b[38;5;241;43m=\u001b[39;49m\u001b[43mfootprint\u001b[49m\u001b[43m,\u001b[49m\n\u001b[0;32m    238\u001b[0m \u001b[43m    \u001b[49m\u001b[43mout\u001b[49m\u001b[38;5;241;43m=\u001b[39;49m\u001b[43mout\u001b[49m\u001b[43m,\u001b[49m\n\u001b[0;32m    239\u001b[0m \u001b[43m    \u001b[49m\u001b[43mmode\u001b[49m\u001b[38;5;241;43m=\u001b[39;49m\u001b[43mmode\u001b[49m\u001b[43m,\u001b[49m\n\u001b[0;32m    240\u001b[0m \u001b[43m    \u001b[49m\u001b[43mcval\u001b[49m\u001b[38;5;241;43m=\u001b[39;49m\u001b[43mcval\u001b[49m\u001b[43m,\u001b[49m\n\u001b[0;32m    241\u001b[0m \u001b[43m\u001b[49m\u001b[43m)\u001b[49m\n\u001b[0;32m    242\u001b[0m \u001b[38;5;28;01mreturn\u001b[39;00m out\n",
      "File \u001b[1;32mc:\\ProgramData\\anaconda3\\envs\\CellPoseCLE-env\\lib\\site-packages\\skimage\\morphology\\gray.py:25\u001b[0m, in \u001b[0;36m_iterate_gray_func\u001b[1;34m(gray_func, image, footprints, out, mode, cval)\u001b[0m\n\u001b[0;32m     19\u001b[0m \u001b[38;5;250m\u001b[39m\u001b[38;5;124;03m\"\"\"Helper to call `gray_func` for each footprint in a sequence.\u001b[39;00m\n\u001b[0;32m     20\u001b[0m \n\u001b[0;32m     21\u001b[0m \u001b[38;5;124;03m`gray_func` is a morphology function that accepts `footprint`, `output`,\u001b[39;00m\n\u001b[0;32m     22\u001b[0m \u001b[38;5;124;03m`mode` and `cval` keyword arguments (e.g. `scipy.ndimage.grey_erosion`).\u001b[39;00m\n\u001b[0;32m     23\u001b[0m \u001b[38;5;124;03m\"\"\"\u001b[39;00m\n\u001b[0;32m     24\u001b[0m fp, num_iter \u001b[38;5;241m=\u001b[39m footprints[\u001b[38;5;241m0\u001b[39m]\n\u001b[1;32m---> 25\u001b[0m \u001b[43mgray_func\u001b[49m\u001b[43m(\u001b[49m\u001b[43mimage\u001b[49m\u001b[43m,\u001b[49m\u001b[43m \u001b[49m\u001b[43mfootprint\u001b[49m\u001b[38;5;241;43m=\u001b[39;49m\u001b[43mfp\u001b[49m\u001b[43m,\u001b[49m\u001b[43m \u001b[49m\u001b[43moutput\u001b[49m\u001b[38;5;241;43m=\u001b[39;49m\u001b[43mout\u001b[49m\u001b[43m,\u001b[49m\u001b[43m \u001b[49m\u001b[43mmode\u001b[49m\u001b[38;5;241;43m=\u001b[39;49m\u001b[43mmode\u001b[49m\u001b[43m,\u001b[49m\u001b[43m \u001b[49m\u001b[43mcval\u001b[49m\u001b[38;5;241;43m=\u001b[39;49m\u001b[43mcval\u001b[49m\u001b[43m)\u001b[49m\n\u001b[0;32m     26\u001b[0m \u001b[38;5;28;01mfor\u001b[39;00m _ \u001b[38;5;129;01min\u001b[39;00m \u001b[38;5;28mrange\u001b[39m(\u001b[38;5;241m1\u001b[39m, num_iter):\n\u001b[0;32m     27\u001b[0m     gray_func(out\u001b[38;5;241m.\u001b[39mcopy(), footprint\u001b[38;5;241m=\u001b[39mfp, output\u001b[38;5;241m=\u001b[39mout, mode\u001b[38;5;241m=\u001b[39mmode, cval\u001b[38;5;241m=\u001b[39mcval)\n",
      "File \u001b[1;32mc:\\ProgramData\\anaconda3\\envs\\CellPoseCLE-env\\lib\\site-packages\\scipy\\ndimage\\_morphology.py:1283\u001b[0m, in \u001b[0;36mgrey_erosion\u001b[1;34m(input, size, footprint, structure, output, mode, cval, origin, axes)\u001b[0m\n\u001b[0;32m   1280\u001b[0m \u001b[38;5;28;01mif\u001b[39;00m size \u001b[38;5;129;01mis\u001b[39;00m \u001b[38;5;28;01mNone\u001b[39;00m \u001b[38;5;129;01mand\u001b[39;00m footprint \u001b[38;5;129;01mis\u001b[39;00m \u001b[38;5;28;01mNone\u001b[39;00m \u001b[38;5;129;01mand\u001b[39;00m structure \u001b[38;5;129;01mis\u001b[39;00m \u001b[38;5;28;01mNone\u001b[39;00m:\n\u001b[0;32m   1281\u001b[0m     \u001b[38;5;28;01mraise\u001b[39;00m \u001b[38;5;167;01mValueError\u001b[39;00m(\u001b[38;5;124m\"\u001b[39m\u001b[38;5;124msize, footprint, or structure must be specified\u001b[39m\u001b[38;5;124m\"\u001b[39m)\n\u001b[1;32m-> 1283\u001b[0m \u001b[38;5;28;01mreturn\u001b[39;00m \u001b[43m_filters\u001b[49m\u001b[38;5;241;43m.\u001b[39;49m\u001b[43m_min_or_max_filter\u001b[49m\u001b[43m(\u001b[49m\u001b[38;5;28;43minput\u001b[39;49m\u001b[43m,\u001b[49m\u001b[43m \u001b[49m\u001b[43msize\u001b[49m\u001b[43m,\u001b[49m\u001b[43m \u001b[49m\u001b[43mfootprint\u001b[49m\u001b[43m,\u001b[49m\u001b[43m \u001b[49m\u001b[43mstructure\u001b[49m\u001b[43m,\u001b[49m\n\u001b[0;32m   1284\u001b[0m \u001b[43m                                   \u001b[49m\u001b[43moutput\u001b[49m\u001b[43m,\u001b[49m\u001b[43m \u001b[49m\u001b[43mmode\u001b[49m\u001b[43m,\u001b[49m\u001b[43m \u001b[49m\u001b[43mcval\u001b[49m\u001b[43m,\u001b[49m\u001b[43m \u001b[49m\u001b[43morigin\u001b[49m\u001b[43m,\u001b[49m\u001b[43m \u001b[49m\u001b[38;5;241;43m1\u001b[39;49m\u001b[43m,\u001b[49m\n\u001b[0;32m   1285\u001b[0m \u001b[43m                                   \u001b[49m\u001b[43maxes\u001b[49m\u001b[38;5;241;43m=\u001b[39;49m\u001b[43maxes\u001b[49m\u001b[43m)\u001b[49m\n",
      "File \u001b[1;32mc:\\ProgramData\\anaconda3\\envs\\CellPoseCLE-env\\lib\\site-packages\\scipy\\ndimage\\_filters.py:1386\u001b[0m, in \u001b[0;36m_min_or_max_filter\u001b[1;34m(input, size, footprint, structure, output, mode, cval, origin, minimum, axes)\u001b[0m\n\u001b[0;32m   1382\u001b[0m         \u001b[38;5;28;01mraise\u001b[39;00m \u001b[38;5;167;01mRuntimeError\u001b[39;00m(\n\u001b[0;32m   1383\u001b[0m             \u001b[38;5;124m\"\u001b[39m\u001b[38;5;124mA sequence of modes is not supported for non-separable \u001b[39m\u001b[38;5;124m\"\u001b[39m\n\u001b[0;32m   1384\u001b[0m             \u001b[38;5;124m\"\u001b[39m\u001b[38;5;124mfootprints\u001b[39m\u001b[38;5;124m\"\u001b[39m)\n\u001b[0;32m   1385\u001b[0m     mode \u001b[38;5;241m=\u001b[39m _ni_support\u001b[38;5;241m.\u001b[39m_extend_mode_to_code(mode)\n\u001b[1;32m-> 1386\u001b[0m     \u001b[43m_nd_image\u001b[49m\u001b[38;5;241;43m.\u001b[39;49m\u001b[43mmin_or_max_filter\u001b[49m\u001b[43m(\u001b[49m\u001b[38;5;28;43minput\u001b[39;49m\u001b[43m,\u001b[49m\u001b[43m \u001b[49m\u001b[43mfootprint\u001b[49m\u001b[43m,\u001b[49m\u001b[43m \u001b[49m\u001b[43mstructure\u001b[49m\u001b[43m,\u001b[49m\u001b[43m \u001b[49m\u001b[43moutput\u001b[49m\u001b[43m,\u001b[49m\n\u001b[0;32m   1387\u001b[0m \u001b[43m                                \u001b[49m\u001b[43mmode\u001b[49m\u001b[43m,\u001b[49m\u001b[43m \u001b[49m\u001b[43mcval\u001b[49m\u001b[43m,\u001b[49m\u001b[43m \u001b[49m\u001b[43morigins\u001b[49m\u001b[43m,\u001b[49m\u001b[43m \u001b[49m\u001b[43mminimum\u001b[49m\u001b[43m)\u001b[49m\n\u001b[0;32m   1388\u001b[0m \u001b[38;5;28;01mif\u001b[39;00m temp_needed:\n\u001b[0;32m   1389\u001b[0m     temp[\u001b[38;5;241m.\u001b[39m\u001b[38;5;241m.\u001b[39m\u001b[38;5;241m.\u001b[39m] \u001b[38;5;241m=\u001b[39m output\n",
      "\u001b[1;31mKeyboardInterrupt\u001b[0m: "
     ]
    }
   ],
   "source": [
    "footprint = sk.morphology.disk(25)\n",
    "bands_25 = band_25_pixels(masks=remove_small_objects,footprint=footprint)\n",
    "dense_roi_masks = norm_and_threshold(imgs)\n",
    "dense_roi_in_nuclei, dense_roi_in_band = dense_rois_in_nuclei_and_band(dense_roi_masks=dense_roi_masks,band_25_pixels=bands_25,relabel_nuc_masks=remove_small_objects)\n",
    "merged_stacks = merge_masks_image(imgs,nuclei_masks,remove_small_objects,bands_25,dense_roi_in_nuclei,dense_roi_in_band)\n",
    "all_heterochromatin_areas, all_band_areas, all_norm_areas = heterochromatin_and_band_areas(dense_roi_in_band,bands_25,scale=[0.0064,0.0064])"
   ]
  },
  {
   "cell_type": "code",
   "execution_count": null,
   "id": "ac1c2158",
   "metadata": {},
   "outputs": [],
   "source": [
    "#collecting measurements for all images\n",
    "props = ['label', 'area', 'eccentricity', 'equivalent_diameter_area','extent','perimeter','solidity','intensity_max']\n",
    "scale = [0.0064,0.0064] #in um\n",
    "save_loc = 'Results/'\n",
    "for i in range(len(imgs)):\n",
    "    swapped_axis = np.moveaxis(merged_stacks[i],-1,0)\n",
    "    df = get_measurements(merged_stacks[i],props=props,scale=scale,all_heterochromatin_areas=all_heterochromatin_areas[i], all_band_areas=all_band_areas[i], all_norm_areas=all_norm_areas[i])\n",
    "    save_df_and_images(df,swapped_axis,save_loc=save_loc,img_files=img_files[i])"
   ]
  }
 ],
 "metadata": {
  "kernelspec": {
   "display_name": "CellPoseCLE-env",
   "language": "python",
   "name": "python3"
  },
  "language_info": {
   "codemirror_mode": {
    "name": "ipython",
    "version": 3
   },
   "file_extension": ".py",
   "mimetype": "text/x-python",
   "name": "python",
   "nbconvert_exporter": "python",
   "pygments_lexer": "ipython3",
   "version": "3.10.16"
  }
 },
 "nbformat": 4,
 "nbformat_minor": 5
}
